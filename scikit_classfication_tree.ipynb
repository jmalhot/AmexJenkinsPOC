{
 "cells": [
  {
   "cell_type": "code",
   "execution_count": 1,
   "metadata": {
    "collapsed": true
   },
   "outputs": [],
   "source": [
    "# import the ml library\n",
    "import pandas as pd\n",
    "from sklearn import metrics"
   ]
  },
  {
   "cell_type": "code",
   "execution_count": 2,
   "metadata": {
    "collapsed": true
   },
   "outputs": [],
   "source": [
    "# input data set\n",
    "\n",
    "income = [60, 85.5, 64.8, 61.5, 87, 110.1, 108, 82.8, 69, 93, 51, 81, 75, 52.8, 64.8, 43.2, 84, 49.2, 59.4, 66, 47.4, 33, 51, 63]\n",
    "plot_size = [18.4, 16.8, 21.6, 20.8, 23.6, 19.2, 17.6, 22.4, 20, 20.8, 22, 20, 19.6, 20.8, 17.2, 20.4, 17.6, 17.6, 16, 18.4, 16.4, 18.8, 14, 14.8 ]\n",
    "owner = ['owner', 'owner', 'owner', 'owner', 'owner', 'owner', 'owner', 'owner', 'owner', 'owner', 'owner', 'owner', 'non-owner', 'non-owner', 'non-owner', 'non-owner', 'non-owner', 'non-owner', 'non-owner', 'non-owner', 'non-owner', 'non-owner', 'non-owner', 'non-owner']\n",
    "\n",
    "#input_data = pd.DataFrame.from_items({'income' : income, 'plot_size' : plot_size, 'owner' : owner})\n",
    "input_data = pd.DataFrame.from_items([('income', income) , ('plot_size', plot_size) ,('owner', owner)])"
   ]
  },
  {
   "cell_type": "code",
   "execution_count": 3,
   "metadata": {},
   "outputs": [
    {
     "data": {
      "text/html": [
       "<div>\n",
       "<table border=\"1\" class=\"dataframe\">\n",
       "  <thead>\n",
       "    <tr style=\"text-align: right;\">\n",
       "      <th></th>\n",
       "      <th>income</th>\n",
       "      <th>plot_size</th>\n",
       "      <th>owner</th>\n",
       "    </tr>\n",
       "  </thead>\n",
       "  <tbody>\n",
       "    <tr>\n",
       "      <th>0</th>\n",
       "      <td>60.0</td>\n",
       "      <td>18.4</td>\n",
       "      <td>owner</td>\n",
       "    </tr>\n",
       "    <tr>\n",
       "      <th>1</th>\n",
       "      <td>85.5</td>\n",
       "      <td>16.8</td>\n",
       "      <td>owner</td>\n",
       "    </tr>\n",
       "    <tr>\n",
       "      <th>2</th>\n",
       "      <td>64.8</td>\n",
       "      <td>21.6</td>\n",
       "      <td>owner</td>\n",
       "    </tr>\n",
       "    <tr>\n",
       "      <th>3</th>\n",
       "      <td>61.5</td>\n",
       "      <td>20.8</td>\n",
       "      <td>owner</td>\n",
       "    </tr>\n",
       "    <tr>\n",
       "      <th>4</th>\n",
       "      <td>87.0</td>\n",
       "      <td>23.6</td>\n",
       "      <td>owner</td>\n",
       "    </tr>\n",
       "    <tr>\n",
       "      <th>5</th>\n",
       "      <td>110.1</td>\n",
       "      <td>19.2</td>\n",
       "      <td>owner</td>\n",
       "    </tr>\n",
       "    <tr>\n",
       "      <th>6</th>\n",
       "      <td>108.0</td>\n",
       "      <td>17.6</td>\n",
       "      <td>owner</td>\n",
       "    </tr>\n",
       "    <tr>\n",
       "      <th>7</th>\n",
       "      <td>82.8</td>\n",
       "      <td>22.4</td>\n",
       "      <td>owner</td>\n",
       "    </tr>\n",
       "    <tr>\n",
       "      <th>8</th>\n",
       "      <td>69.0</td>\n",
       "      <td>20.0</td>\n",
       "      <td>owner</td>\n",
       "    </tr>\n",
       "    <tr>\n",
       "      <th>9</th>\n",
       "      <td>93.0</td>\n",
       "      <td>20.8</td>\n",
       "      <td>owner</td>\n",
       "    </tr>\n",
       "    <tr>\n",
       "      <th>10</th>\n",
       "      <td>51.0</td>\n",
       "      <td>22.0</td>\n",
       "      <td>owner</td>\n",
       "    </tr>\n",
       "    <tr>\n",
       "      <th>11</th>\n",
       "      <td>81.0</td>\n",
       "      <td>20.0</td>\n",
       "      <td>owner</td>\n",
       "    </tr>\n",
       "    <tr>\n",
       "      <th>12</th>\n",
       "      <td>75.0</td>\n",
       "      <td>19.6</td>\n",
       "      <td>non-owner</td>\n",
       "    </tr>\n",
       "    <tr>\n",
       "      <th>13</th>\n",
       "      <td>52.8</td>\n",
       "      <td>20.8</td>\n",
       "      <td>non-owner</td>\n",
       "    </tr>\n",
       "    <tr>\n",
       "      <th>14</th>\n",
       "      <td>64.8</td>\n",
       "      <td>17.2</td>\n",
       "      <td>non-owner</td>\n",
       "    </tr>\n",
       "    <tr>\n",
       "      <th>15</th>\n",
       "      <td>43.2</td>\n",
       "      <td>20.4</td>\n",
       "      <td>non-owner</td>\n",
       "    </tr>\n",
       "    <tr>\n",
       "      <th>16</th>\n",
       "      <td>84.0</td>\n",
       "      <td>17.6</td>\n",
       "      <td>non-owner</td>\n",
       "    </tr>\n",
       "    <tr>\n",
       "      <th>17</th>\n",
       "      <td>49.2</td>\n",
       "      <td>17.6</td>\n",
       "      <td>non-owner</td>\n",
       "    </tr>\n",
       "    <tr>\n",
       "      <th>18</th>\n",
       "      <td>59.4</td>\n",
       "      <td>16.0</td>\n",
       "      <td>non-owner</td>\n",
       "    </tr>\n",
       "    <tr>\n",
       "      <th>19</th>\n",
       "      <td>66.0</td>\n",
       "      <td>18.4</td>\n",
       "      <td>non-owner</td>\n",
       "    </tr>\n",
       "    <tr>\n",
       "      <th>20</th>\n",
       "      <td>47.4</td>\n",
       "      <td>16.4</td>\n",
       "      <td>non-owner</td>\n",
       "    </tr>\n",
       "    <tr>\n",
       "      <th>21</th>\n",
       "      <td>33.0</td>\n",
       "      <td>18.8</td>\n",
       "      <td>non-owner</td>\n",
       "    </tr>\n",
       "    <tr>\n",
       "      <th>22</th>\n",
       "      <td>51.0</td>\n",
       "      <td>14.0</td>\n",
       "      <td>non-owner</td>\n",
       "    </tr>\n",
       "    <tr>\n",
       "      <th>23</th>\n",
       "      <td>63.0</td>\n",
       "      <td>14.8</td>\n",
       "      <td>non-owner</td>\n",
       "    </tr>\n",
       "  </tbody>\n",
       "</table>\n",
       "</div>"
      ],
      "text/plain": [
       "    income  plot_size      owner\n",
       "0     60.0       18.4      owner\n",
       "1     85.5       16.8      owner\n",
       "2     64.8       21.6      owner\n",
       "3     61.5       20.8      owner\n",
       "4     87.0       23.6      owner\n",
       "5    110.1       19.2      owner\n",
       "6    108.0       17.6      owner\n",
       "7     82.8       22.4      owner\n",
       "8     69.0       20.0      owner\n",
       "9     93.0       20.8      owner\n",
       "10    51.0       22.0      owner\n",
       "11    81.0       20.0      owner\n",
       "12    75.0       19.6  non-owner\n",
       "13    52.8       20.8  non-owner\n",
       "14    64.8       17.2  non-owner\n",
       "15    43.2       20.4  non-owner\n",
       "16    84.0       17.6  non-owner\n",
       "17    49.2       17.6  non-owner\n",
       "18    59.4       16.0  non-owner\n",
       "19    66.0       18.4  non-owner\n",
       "20    47.4       16.4  non-owner\n",
       "21    33.0       18.8  non-owner\n",
       "22    51.0       14.0  non-owner\n",
       "23    63.0       14.8  non-owner"
      ]
     },
     "execution_count": 3,
     "metadata": {},
     "output_type": "execute_result"
    }
   ],
   "source": [
    "input_data"
   ]
  },
  {
   "cell_type": "code",
   "execution_count": 3,
   "metadata": {
    "collapsed": true
   },
   "outputs": [],
   "source": [
    "# seperate the predictors x and response y\n",
    "x = input_data[['income', 'plot_size']]\n",
    "y = input_data['owner']"
   ]
  },
  {
   "cell_type": "code",
   "execution_count": 5,
   "metadata": {},
   "outputs": [
    {
     "data": {
      "text/html": [
       "<div>\n",
       "<table border=\"1\" class=\"dataframe\">\n",
       "  <thead>\n",
       "    <tr style=\"text-align: right;\">\n",
       "      <th></th>\n",
       "      <th>income</th>\n",
       "      <th>plot_size</th>\n",
       "    </tr>\n",
       "  </thead>\n",
       "  <tbody>\n",
       "    <tr>\n",
       "      <th>0</th>\n",
       "      <td>60.0</td>\n",
       "      <td>18.4</td>\n",
       "    </tr>\n",
       "    <tr>\n",
       "      <th>1</th>\n",
       "      <td>85.5</td>\n",
       "      <td>16.8</td>\n",
       "    </tr>\n",
       "    <tr>\n",
       "      <th>2</th>\n",
       "      <td>64.8</td>\n",
       "      <td>21.6</td>\n",
       "    </tr>\n",
       "    <tr>\n",
       "      <th>3</th>\n",
       "      <td>61.5</td>\n",
       "      <td>20.8</td>\n",
       "    </tr>\n",
       "    <tr>\n",
       "      <th>4</th>\n",
       "      <td>87.0</td>\n",
       "      <td>23.6</td>\n",
       "    </tr>\n",
       "  </tbody>\n",
       "</table>\n",
       "</div>"
      ],
      "text/plain": [
       "   income  plot_size\n",
       "0    60.0       18.4\n",
       "1    85.5       16.8\n",
       "2    64.8       21.6\n",
       "3    61.5       20.8\n",
       "4    87.0       23.6"
      ]
     },
     "execution_count": 5,
     "metadata": {},
     "output_type": "execute_result"
    }
   ],
   "source": [
    "x.head()"
   ]
  },
  {
   "cell_type": "code",
   "execution_count": 6,
   "metadata": {},
   "outputs": [
    {
     "data": {
      "text/plain": [
       "0    owner\n",
       "1    owner\n",
       "2    owner\n",
       "3    owner\n",
       "4    owner\n",
       "Name: owner, dtype: object"
      ]
     },
     "execution_count": 6,
     "metadata": {},
     "output_type": "execute_result"
    }
   ],
   "source": [
    "y.head()"
   ]
  },
  {
   "cell_type": "code",
   "execution_count": 5,
   "metadata": {
    "collapsed": true
   },
   "outputs": [],
   "source": [
    "from sklearn import tree\n",
    "ctree = tree.DecisionTreeClassifier()\n",
    "ctree_model = ctree.fit(x, y)"
   ]
  },
  {
   "cell_type": "code",
   "execution_count": 7,
   "metadata": {},
   "outputs": [
    {
     "data": {
      "text/plain": [
       "DecisionTreeClassifier(class_weight=None, criterion='gini', max_depth=None,\n",
       "            max_features=None, max_leaf_nodes=None,\n",
       "            min_impurity_split=1e-07, min_samples_leaf=1,\n",
       "            min_samples_split=2, min_weight_fraction_leaf=0.0,\n",
       "            presort=False, random_state=None, splitter='best')"
      ]
     },
     "execution_count": 7,
     "metadata": {},
     "output_type": "execute_result"
    }
   ],
   "source": [
    "ctree"
   ]
  },
  {
   "cell_type": "code",
   "execution_count": 6,
   "metadata": {},
   "outputs": [
    {
     "data": {
      "image/svg+xml": [
       "<?xml version=\"1.0\" encoding=\"UTF-8\" standalone=\"no\"?>\r\n",
       "<!DOCTYPE svg PUBLIC \"-//W3C//DTD SVG 1.1//EN\"\r\n",
       " \"http://www.w3.org/Graphics/SVG/1.1/DTD/svg11.dtd\">\r\n",
       "<!-- Generated by graphviz version 2.38.0 (20140413.2041)\r\n",
       " -->\r\n",
       "<!-- Title: Tree Pages: 1 -->\r\n",
       "<svg width=\"545pt\" height=\"552pt\"\r\n",
       " viewBox=\"0.00 0.00 544.50 552.00\" xmlns=\"http://www.w3.org/2000/svg\" xmlns:xlink=\"http://www.w3.org/1999/xlink\">\r\n",
       "<g id=\"graph0\" class=\"graph\" transform=\"scale(1 1) rotate(0) translate(4 548)\">\r\n",
       "<title>Tree</title>\r\n",
       "<polygon fill=\"white\" stroke=\"none\" points=\"-4,4 -4,-548 540.5,-548 540.5,4 -4,4\"/>\r\n",
       "<!-- 0 -->\r\n",
       "<g id=\"node1\" class=\"node\"><title>0</title>\r\n",
       "<path fill=\"none\" stroke=\"black\" d=\"M331,-544C331,-544 220,-544 220,-544 214,-544 208,-538 208,-532 208,-532 208,-473 208,-473 208,-467 214,-461 220,-461 220,-461 331,-461 331,-461 337,-461 343,-467 343,-473 343,-473 343,-532 343,-532 343,-538 337,-544 331,-544\"/>\r\n",
       "<text text-anchor=\"start\" x=\"230\" y=\"-528.8\" font-family=\"Helvetica,sans-Serif\" font-size=\"14.00\">income ≤ 59.7</text>\r\n",
       "<text text-anchor=\"start\" x=\"246.5\" y=\"-513.8\" font-family=\"Helvetica,sans-Serif\" font-size=\"14.00\">gini = 0.5</text>\r\n",
       "<text text-anchor=\"start\" x=\"232\" y=\"-498.8\" font-family=\"Helvetica,sans-Serif\" font-size=\"14.00\">samples = 24</text>\r\n",
       "<text text-anchor=\"start\" x=\"227\" y=\"-483.8\" font-family=\"Helvetica,sans-Serif\" font-size=\"14.00\">value = [12, 12]</text>\r\n",
       "<text text-anchor=\"start\" x=\"216\" y=\"-468.8\" font-family=\"Helvetica,sans-Serif\" font-size=\"14.00\">class = non_owner</text>\r\n",
       "</g>\r\n",
       "<!-- 1 -->\r\n",
       "<g id=\"node2\" class=\"node\"><title>1</title>\r\n",
       "<path fill=\"#e58139\" fill-opacity=\"0.858824\" stroke=\"black\" d=\"M259,-425C259,-425 148,-425 148,-425 142,-425 136,-419 136,-413 136,-413 136,-354 136,-354 136,-348 142,-342 148,-342 148,-342 259,-342 259,-342 265,-342 271,-348 271,-354 271,-354 271,-413 271,-413 271,-419 265,-425 259,-425\"/>\r\n",
       "<text text-anchor=\"start\" x=\"153\" y=\"-409.8\" font-family=\"Helvetica,sans-Serif\" font-size=\"14.00\">plot_size ≤ 21.4</text>\r\n",
       "<text text-anchor=\"start\" x=\"162\" y=\"-394.8\" font-family=\"Helvetica,sans-Serif\" font-size=\"14.00\">gini = 0.2188</text>\r\n",
       "<text text-anchor=\"start\" x=\"164\" y=\"-379.8\" font-family=\"Helvetica,sans-Serif\" font-size=\"14.00\">samples = 8</text>\r\n",
       "<text text-anchor=\"start\" x=\"163\" y=\"-364.8\" font-family=\"Helvetica,sans-Serif\" font-size=\"14.00\">value = [7, 1]</text>\r\n",
       "<text text-anchor=\"start\" x=\"144\" y=\"-349.8\" font-family=\"Helvetica,sans-Serif\" font-size=\"14.00\">class = non_owner</text>\r\n",
       "</g>\r\n",
       "<!-- 0&#45;&gt;1 -->\r\n",
       "<g id=\"edge1\" class=\"edge\"><title>0&#45;&gt;1</title>\r\n",
       "<path fill=\"none\" stroke=\"black\" d=\"M250.52,-460.907C245.103,-452.105 239.317,-442.703 233.723,-433.612\"/>\r\n",
       "<polygon fill=\"black\" stroke=\"black\" points=\"236.658,-431.703 228.436,-425.021 230.696,-435.372 236.658,-431.703\"/>\r\n",
       "<text text-anchor=\"middle\" x=\"222.645\" y=\"-445.641\" font-family=\"Helvetica,sans-Serif\" font-size=\"14.00\">True</text>\r\n",
       "</g>\r\n",
       "<!-- 4 -->\r\n",
       "<g id=\"node5\" class=\"node\"><title>4</title>\r\n",
       "<path fill=\"#399de5\" fill-opacity=\"0.545098\" stroke=\"black\" d=\"M394,-425C394,-425 301,-425 301,-425 295,-425 289,-419 289,-413 289,-413 289,-354 289,-354 289,-348 295,-342 301,-342 301,-342 394,-342 394,-342 400,-342 406,-348 406,-354 406,-354 406,-413 406,-413 406,-419 400,-425 394,-425\"/>\r\n",
       "<text text-anchor=\"start\" x=\"297\" y=\"-409.8\" font-family=\"Helvetica,sans-Serif\" font-size=\"14.00\">plot_size ≤ 19.8</text>\r\n",
       "<text text-anchor=\"start\" x=\"306\" y=\"-394.8\" font-family=\"Helvetica,sans-Serif\" font-size=\"14.00\">gini = 0.4297</text>\r\n",
       "<text text-anchor=\"start\" x=\"304\" y=\"-379.8\" font-family=\"Helvetica,sans-Serif\" font-size=\"14.00\">samples = 16</text>\r\n",
       "<text text-anchor=\"start\" x=\"303\" y=\"-364.8\" font-family=\"Helvetica,sans-Serif\" font-size=\"14.00\">value = [5, 11]</text>\r\n",
       "<text text-anchor=\"start\" x=\"303.5\" y=\"-349.8\" font-family=\"Helvetica,sans-Serif\" font-size=\"14.00\">class = owner</text>\r\n",
       "</g>\r\n",
       "<!-- 0&#45;&gt;4 -->\r\n",
       "<g id=\"edge4\" class=\"edge\"><title>0&#45;&gt;4</title>\r\n",
       "<path fill=\"none\" stroke=\"black\" d=\"M300.48,-460.907C305.897,-452.105 311.683,-442.703 317.277,-433.612\"/>\r\n",
       "<polygon fill=\"black\" stroke=\"black\" points=\"320.304,-435.372 322.564,-425.021 314.342,-431.703 320.304,-435.372\"/>\r\n",
       "<text text-anchor=\"middle\" x=\"328.355\" y=\"-445.641\" font-family=\"Helvetica,sans-Serif\" font-size=\"14.00\">False</text>\r\n",
       "</g>\r\n",
       "<!-- 2 -->\r\n",
       "<g id=\"node3\" class=\"node\"><title>2</title>\r\n",
       "<path fill=\"#e58139\" stroke=\"black\" d=\"M123,-298.5C123,-298.5 12,-298.5 12,-298.5 6,-298.5 0,-292.5 0,-286.5 0,-286.5 0,-242.5 0,-242.5 0,-236.5 6,-230.5 12,-230.5 12,-230.5 123,-230.5 123,-230.5 129,-230.5 135,-236.5 135,-242.5 135,-242.5 135,-286.5 135,-286.5 135,-292.5 129,-298.5 123,-298.5\"/>\r\n",
       "<text text-anchor=\"start\" x=\"38.5\" y=\"-283.3\" font-family=\"Helvetica,sans-Serif\" font-size=\"14.00\">gini = 0.0</text>\r\n",
       "<text text-anchor=\"start\" x=\"28\" y=\"-268.3\" font-family=\"Helvetica,sans-Serif\" font-size=\"14.00\">samples = 7</text>\r\n",
       "<text text-anchor=\"start\" x=\"27\" y=\"-253.3\" font-family=\"Helvetica,sans-Serif\" font-size=\"14.00\">value = [7, 0]</text>\r\n",
       "<text text-anchor=\"start\" x=\"8\" y=\"-238.3\" font-family=\"Helvetica,sans-Serif\" font-size=\"14.00\">class = non_owner</text>\r\n",
       "</g>\r\n",
       "<!-- 1&#45;&gt;2 -->\r\n",
       "<g id=\"edge2\" class=\"edge\"><title>1&#45;&gt;2</title>\r\n",
       "<path fill=\"none\" stroke=\"black\" d=\"M156.315,-341.907C142.591,-330.101 127.615,-317.217 113.937,-305.45\"/>\r\n",
       "<polygon fill=\"black\" stroke=\"black\" points=\"115.916,-302.535 106.053,-298.667 111.351,-307.842 115.916,-302.535\"/>\r\n",
       "</g>\r\n",
       "<!-- 3 -->\r\n",
       "<g id=\"node4\" class=\"node\"><title>3</title>\r\n",
       "<path fill=\"#399de5\" stroke=\"black\" d=\"M245.5,-298.5C245.5,-298.5 165.5,-298.5 165.5,-298.5 159.5,-298.5 153.5,-292.5 153.5,-286.5 153.5,-286.5 153.5,-242.5 153.5,-242.5 153.5,-236.5 159.5,-230.5 165.5,-230.5 165.5,-230.5 245.5,-230.5 245.5,-230.5 251.5,-230.5 257.5,-236.5 257.5,-242.5 257.5,-242.5 257.5,-286.5 257.5,-286.5 257.5,-292.5 251.5,-298.5 245.5,-298.5\"/>\r\n",
       "<text text-anchor=\"start\" x=\"176.5\" y=\"-283.3\" font-family=\"Helvetica,sans-Serif\" font-size=\"14.00\">gini = 0.0</text>\r\n",
       "<text text-anchor=\"start\" x=\"166\" y=\"-268.3\" font-family=\"Helvetica,sans-Serif\" font-size=\"14.00\">samples = 1</text>\r\n",
       "<text text-anchor=\"start\" x=\"165\" y=\"-253.3\" font-family=\"Helvetica,sans-Serif\" font-size=\"14.00\">value = [0, 1]</text>\r\n",
       "<text text-anchor=\"start\" x=\"161.5\" y=\"-238.3\" font-family=\"Helvetica,sans-Serif\" font-size=\"14.00\">class = owner</text>\r\n",
       "</g>\r\n",
       "<!-- 1&#45;&gt;3 -->\r\n",
       "<g id=\"edge3\" class=\"edge\"><title>1&#45;&gt;3</title>\r\n",
       "<path fill=\"none\" stroke=\"black\" d=\"M204.194,-341.907C204.377,-331.204 204.575,-319.615 204.76,-308.776\"/>\r\n",
       "<polygon fill=\"black\" stroke=\"black\" points=\"208.262,-308.725 204.933,-298.667 201.263,-308.606 208.262,-308.725\"/>\r\n",
       "</g>\r\n",
       "<!-- 5 -->\r\n",
       "<g id=\"node6\" class=\"node\"><title>5</title>\r\n",
       "<path fill=\"#e58139\" fill-opacity=\"0.200000\" stroke=\"black\" d=\"M402,-306C402,-306 291,-306 291,-306 285,-306 279,-300 279,-294 279,-294 279,-235 279,-235 279,-229 285,-223 291,-223 291,-223 402,-223 402,-223 408,-223 414,-229 414,-235 414,-235 414,-294 414,-294 414,-300 408,-306 402,-306\"/>\r\n",
       "<text text-anchor=\"start\" x=\"297\" y=\"-290.8\" font-family=\"Helvetica,sans-Serif\" font-size=\"14.00\">income ≤ 84.75</text>\r\n",
       "<text text-anchor=\"start\" x=\"305\" y=\"-275.8\" font-family=\"Helvetica,sans-Serif\" font-size=\"14.00\">gini = 0.4938</text>\r\n",
       "<text text-anchor=\"start\" x=\"307\" y=\"-260.8\" font-family=\"Helvetica,sans-Serif\" font-size=\"14.00\">samples = 9</text>\r\n",
       "<text text-anchor=\"start\" x=\"306\" y=\"-245.8\" font-family=\"Helvetica,sans-Serif\" font-size=\"14.00\">value = [5, 4]</text>\r\n",
       "<text text-anchor=\"start\" x=\"287\" y=\"-230.8\" font-family=\"Helvetica,sans-Serif\" font-size=\"14.00\">class = non_owner</text>\r\n",
       "</g>\r\n",
       "<!-- 4&#45;&gt;5 -->\r\n",
       "<g id=\"edge5\" class=\"edge\"><title>4&#45;&gt;5</title>\r\n",
       "<path fill=\"none\" stroke=\"black\" d=\"M347.153,-341.907C347.082,-333.649 347.007,-324.864 346.934,-316.302\"/>\r\n",
       "<polygon fill=\"black\" stroke=\"black\" points=\"350.432,-315.99 346.846,-306.021 343.432,-316.05 350.432,-315.99\"/>\r\n",
       "</g>\r\n",
       "<!-- 10 -->\r\n",
       "<g id=\"node11\" class=\"node\"><title>10</title>\r\n",
       "<path fill=\"#399de5\" stroke=\"black\" d=\"M524.5,-298.5C524.5,-298.5 444.5,-298.5 444.5,-298.5 438.5,-298.5 432.5,-292.5 432.5,-286.5 432.5,-286.5 432.5,-242.5 432.5,-242.5 432.5,-236.5 438.5,-230.5 444.5,-230.5 444.5,-230.5 524.5,-230.5 524.5,-230.5 530.5,-230.5 536.5,-236.5 536.5,-242.5 536.5,-242.5 536.5,-286.5 536.5,-286.5 536.5,-292.5 530.5,-298.5 524.5,-298.5\"/>\r\n",
       "<text text-anchor=\"start\" x=\"455.5\" y=\"-283.3\" font-family=\"Helvetica,sans-Serif\" font-size=\"14.00\">gini = 0.0</text>\r\n",
       "<text text-anchor=\"start\" x=\"445\" y=\"-268.3\" font-family=\"Helvetica,sans-Serif\" font-size=\"14.00\">samples = 7</text>\r\n",
       "<text text-anchor=\"start\" x=\"444\" y=\"-253.3\" font-family=\"Helvetica,sans-Serif\" font-size=\"14.00\">value = [0, 7]</text>\r\n",
       "<text text-anchor=\"start\" x=\"440.5\" y=\"-238.3\" font-family=\"Helvetica,sans-Serif\" font-size=\"14.00\">class = owner</text>\r\n",
       "</g>\r\n",
       "<!-- 4&#45;&gt;10 -->\r\n",
       "<g id=\"edge10\" class=\"edge\"><title>4&#45;&gt;10</title>\r\n",
       "<path fill=\"none\" stroke=\"black\" d=\"M395.031,-341.907C408.857,-330.101 423.943,-317.217 437.721,-305.45\"/>\r\n",
       "<polygon fill=\"black\" stroke=\"black\" points=\"440.332,-307.823 445.664,-298.667 435.786,-302.5 440.332,-307.823\"/>\r\n",
       "</g>\r\n",
       "<!-- 6 -->\r\n",
       "<g id=\"node7\" class=\"node\"><title>6</title>\r\n",
       "<path fill=\"#e58139\" fill-opacity=\"0.800000\" stroke=\"black\" d=\"M333,-187C333,-187 222,-187 222,-187 216,-187 210,-181 210,-175 210,-175 210,-116 210,-116 210,-110 216,-104 222,-104 222,-104 333,-104 333,-104 339,-104 345,-110 345,-116 345,-116 345,-175 345,-175 345,-181 339,-187 333,-187\"/>\r\n",
       "<text text-anchor=\"start\" x=\"232\" y=\"-171.8\" font-family=\"Helvetica,sans-Serif\" font-size=\"14.00\">income ≤ 61.5</text>\r\n",
       "<text text-anchor=\"start\" x=\"236\" y=\"-156.8\" font-family=\"Helvetica,sans-Serif\" font-size=\"14.00\">gini = 0.2778</text>\r\n",
       "<text text-anchor=\"start\" x=\"238\" y=\"-141.8\" font-family=\"Helvetica,sans-Serif\" font-size=\"14.00\">samples = 6</text>\r\n",
       "<text text-anchor=\"start\" x=\"237\" y=\"-126.8\" font-family=\"Helvetica,sans-Serif\" font-size=\"14.00\">value = [5, 1]</text>\r\n",
       "<text text-anchor=\"start\" x=\"218\" y=\"-111.8\" font-family=\"Helvetica,sans-Serif\" font-size=\"14.00\">class = non_owner</text>\r\n",
       "</g>\r\n",
       "<!-- 5&#45;&gt;6 -->\r\n",
       "<g id=\"edge6\" class=\"edge\"><title>5&#45;&gt;6</title>\r\n",
       "<path fill=\"none\" stroke=\"black\" d=\"M322.561,-222.907C317.423,-214.195 311.939,-204.897 306.629,-195.893\"/>\r\n",
       "<polygon fill=\"black\" stroke=\"black\" points=\"309.492,-193.857 301.397,-187.021 303.462,-197.412 309.492,-193.857\"/>\r\n",
       "</g>\r\n",
       "<!-- 9 -->\r\n",
       "<g id=\"node10\" class=\"node\"><title>9</title>\r\n",
       "<path fill=\"#399de5\" stroke=\"black\" d=\"M455.5,-179.5C455.5,-179.5 375.5,-179.5 375.5,-179.5 369.5,-179.5 363.5,-173.5 363.5,-167.5 363.5,-167.5 363.5,-123.5 363.5,-123.5 363.5,-117.5 369.5,-111.5 375.5,-111.5 375.5,-111.5 455.5,-111.5 455.5,-111.5 461.5,-111.5 467.5,-117.5 467.5,-123.5 467.5,-123.5 467.5,-167.5 467.5,-167.5 467.5,-173.5 461.5,-179.5 455.5,-179.5\"/>\r\n",
       "<text text-anchor=\"start\" x=\"386.5\" y=\"-164.3\" font-family=\"Helvetica,sans-Serif\" font-size=\"14.00\">gini = 0.0</text>\r\n",
       "<text text-anchor=\"start\" x=\"376\" y=\"-149.3\" font-family=\"Helvetica,sans-Serif\" font-size=\"14.00\">samples = 3</text>\r\n",
       "<text text-anchor=\"start\" x=\"375\" y=\"-134.3\" font-family=\"Helvetica,sans-Serif\" font-size=\"14.00\">value = [0, 3]</text>\r\n",
       "<text text-anchor=\"start\" x=\"371.5\" y=\"-119.3\" font-family=\"Helvetica,sans-Serif\" font-size=\"14.00\">class = owner</text>\r\n",
       "</g>\r\n",
       "<!-- 5&#45;&gt;9 -->\r\n",
       "<g id=\"edge9\" class=\"edge\"><title>5&#45;&gt;9</title>\r\n",
       "<path fill=\"none\" stroke=\"black\" d=\"M370.439,-222.907C377.012,-211.763 384.15,-199.658 390.767,-188.439\"/>\r\n",
       "<polygon fill=\"black\" stroke=\"black\" points=\"393.875,-190.059 395.94,-179.667 387.845,-186.503 393.875,-190.059\"/>\r\n",
       "</g>\r\n",
       "<!-- 7 -->\r\n",
       "<g id=\"node8\" class=\"node\"><title>7</title>\r\n",
       "<path fill=\"#399de5\" stroke=\"black\" d=\"M248.5,-68C248.5,-68 168.5,-68 168.5,-68 162.5,-68 156.5,-62 156.5,-56 156.5,-56 156.5,-12 156.5,-12 156.5,-6 162.5,-0 168.5,-0 168.5,-0 248.5,-0 248.5,-0 254.5,-0 260.5,-6 260.5,-12 260.5,-12 260.5,-56 260.5,-56 260.5,-62 254.5,-68 248.5,-68\"/>\r\n",
       "<text text-anchor=\"start\" x=\"179.5\" y=\"-52.8\" font-family=\"Helvetica,sans-Serif\" font-size=\"14.00\">gini = 0.0</text>\r\n",
       "<text text-anchor=\"start\" x=\"169\" y=\"-37.8\" font-family=\"Helvetica,sans-Serif\" font-size=\"14.00\">samples = 1</text>\r\n",
       "<text text-anchor=\"start\" x=\"168\" y=\"-22.8\" font-family=\"Helvetica,sans-Serif\" font-size=\"14.00\">value = [0, 1]</text>\r\n",
       "<text text-anchor=\"start\" x=\"164.5\" y=\"-7.8\" font-family=\"Helvetica,sans-Serif\" font-size=\"14.00\">class = owner</text>\r\n",
       "</g>\r\n",
       "<!-- 6&#45;&gt;7 -->\r\n",
       "<g id=\"edge7\" class=\"edge\"><title>6&#45;&gt;7</title>\r\n",
       "<path fill=\"none\" stroke=\"black\" d=\"M251.807,-103.726C246.289,-94.9703 240.45,-85.7032 234.906,-76.9051\"/>\r\n",
       "<polygon fill=\"black\" stroke=\"black\" points=\"237.776,-74.8941 229.483,-68.2996 231.853,-78.6259 237.776,-74.8941\"/>\r\n",
       "</g>\r\n",
       "<!-- 8 -->\r\n",
       "<g id=\"node9\" class=\"node\"><title>8</title>\r\n",
       "<path fill=\"#e58139\" stroke=\"black\" d=\"M402,-68C402,-68 291,-68 291,-68 285,-68 279,-62 279,-56 279,-56 279,-12 279,-12 279,-6 285,-0 291,-0 291,-0 402,-0 402,-0 408,-0 414,-6 414,-12 414,-12 414,-56 414,-56 414,-62 408,-68 402,-68\"/>\r\n",
       "<text text-anchor=\"start\" x=\"317.5\" y=\"-52.8\" font-family=\"Helvetica,sans-Serif\" font-size=\"14.00\">gini = 0.0</text>\r\n",
       "<text text-anchor=\"start\" x=\"307\" y=\"-37.8\" font-family=\"Helvetica,sans-Serif\" font-size=\"14.00\">samples = 5</text>\r\n",
       "<text text-anchor=\"start\" x=\"306\" y=\"-22.8\" font-family=\"Helvetica,sans-Serif\" font-size=\"14.00\">value = [5, 0]</text>\r\n",
       "<text text-anchor=\"start\" x=\"287\" y=\"-7.8\" font-family=\"Helvetica,sans-Serif\" font-size=\"14.00\">class = non_owner</text>\r\n",
       "</g>\r\n",
       "<!-- 6&#45;&gt;8 -->\r\n",
       "<g id=\"edge8\" class=\"edge\"><title>6&#45;&gt;8</title>\r\n",
       "<path fill=\"none\" stroke=\"black\" d=\"M303.193,-103.726C308.711,-94.9703 314.55,-85.7032 320.094,-76.9051\"/>\r\n",
       "<polygon fill=\"black\" stroke=\"black\" points=\"323.147,-78.6259 325.517,-68.2996 317.224,-74.8941 323.147,-78.6259\"/>\r\n",
       "</g>\r\n",
       "</g>\r\n",
       "</svg>\r\n"
      ],
      "text/plain": [
       "<graphviz.files.Source at 0x55ded7f390>"
      ]
     },
     "execution_count": 6,
     "metadata": {},
     "output_type": "execute_result"
    }
   ],
   "source": [
    "import graphviz\n",
    "tree_data = tree.export_graphviz(ctree_model, out_file=None, \n",
    "                                 feature_names=x.columns, \n",
    "                                 class_names = ['non_owner', 'owner'],\n",
    "                                 filled=True,\n",
    "                                 rounded=True, \n",
    "                                 special_characters=True\n",
    "                                 )\n",
    "graph = graphviz.Source(tree_data)\n",
    "graph"
   ]
  },
  {
   "cell_type": "code",
   "execution_count": 12,
   "metadata": {},
   "outputs": [
    {
     "name": "stdout",
     "output_type": "stream",
     "text": [
      "1.0\n"
     ]
    }
   ],
   "source": [
    "# Training accuracy\n",
    "y_pred = ctree_model.predict(x)\n",
    "print(metrics.accuracy_score(y, y_pred))"
   ]
  },
  {
   "cell_type": "code",
   "execution_count": 13,
   "metadata": {},
   "outputs": [
    {
     "data": {
      "text/html": [
       "<div>\n",
       "<table border=\"1\" class=\"dataframe\">\n",
       "  <thead>\n",
       "    <tr style=\"text-align: right;\">\n",
       "      <th></th>\n",
       "      <th>actual</th>\n",
       "      <th>predicted</th>\n",
       "    </tr>\n",
       "  </thead>\n",
       "  <tbody>\n",
       "    <tr>\n",
       "      <th>0</th>\n",
       "      <td>owner</td>\n",
       "      <td>owner</td>\n",
       "    </tr>\n",
       "    <tr>\n",
       "      <th>1</th>\n",
       "      <td>owner</td>\n",
       "      <td>owner</td>\n",
       "    </tr>\n",
       "    <tr>\n",
       "      <th>2</th>\n",
       "      <td>owner</td>\n",
       "      <td>owner</td>\n",
       "    </tr>\n",
       "    <tr>\n",
       "      <th>3</th>\n",
       "      <td>owner</td>\n",
       "      <td>owner</td>\n",
       "    </tr>\n",
       "    <tr>\n",
       "      <th>4</th>\n",
       "      <td>owner</td>\n",
       "      <td>owner</td>\n",
       "    </tr>\n",
       "    <tr>\n",
       "      <th>5</th>\n",
       "      <td>owner</td>\n",
       "      <td>owner</td>\n",
       "    </tr>\n",
       "    <tr>\n",
       "      <th>6</th>\n",
       "      <td>owner</td>\n",
       "      <td>owner</td>\n",
       "    </tr>\n",
       "    <tr>\n",
       "      <th>7</th>\n",
       "      <td>owner</td>\n",
       "      <td>owner</td>\n",
       "    </tr>\n",
       "    <tr>\n",
       "      <th>8</th>\n",
       "      <td>owner</td>\n",
       "      <td>owner</td>\n",
       "    </tr>\n",
       "    <tr>\n",
       "      <th>9</th>\n",
       "      <td>owner</td>\n",
       "      <td>owner</td>\n",
       "    </tr>\n",
       "    <tr>\n",
       "      <th>10</th>\n",
       "      <td>owner</td>\n",
       "      <td>owner</td>\n",
       "    </tr>\n",
       "    <tr>\n",
       "      <th>11</th>\n",
       "      <td>owner</td>\n",
       "      <td>owner</td>\n",
       "    </tr>\n",
       "    <tr>\n",
       "      <th>12</th>\n",
       "      <td>non-owner</td>\n",
       "      <td>non-owner</td>\n",
       "    </tr>\n",
       "    <tr>\n",
       "      <th>13</th>\n",
       "      <td>non-owner</td>\n",
       "      <td>non-owner</td>\n",
       "    </tr>\n",
       "    <tr>\n",
       "      <th>14</th>\n",
       "      <td>non-owner</td>\n",
       "      <td>non-owner</td>\n",
       "    </tr>\n",
       "    <tr>\n",
       "      <th>15</th>\n",
       "      <td>non-owner</td>\n",
       "      <td>non-owner</td>\n",
       "    </tr>\n",
       "    <tr>\n",
       "      <th>16</th>\n",
       "      <td>non-owner</td>\n",
       "      <td>non-owner</td>\n",
       "    </tr>\n",
       "    <tr>\n",
       "      <th>17</th>\n",
       "      <td>non-owner</td>\n",
       "      <td>non-owner</td>\n",
       "    </tr>\n",
       "    <tr>\n",
       "      <th>18</th>\n",
       "      <td>non-owner</td>\n",
       "      <td>non-owner</td>\n",
       "    </tr>\n",
       "    <tr>\n",
       "      <th>19</th>\n",
       "      <td>non-owner</td>\n",
       "      <td>non-owner</td>\n",
       "    </tr>\n",
       "    <tr>\n",
       "      <th>20</th>\n",
       "      <td>non-owner</td>\n",
       "      <td>non-owner</td>\n",
       "    </tr>\n",
       "    <tr>\n",
       "      <th>21</th>\n",
       "      <td>non-owner</td>\n",
       "      <td>non-owner</td>\n",
       "    </tr>\n",
       "    <tr>\n",
       "      <th>22</th>\n",
       "      <td>non-owner</td>\n",
       "      <td>non-owner</td>\n",
       "    </tr>\n",
       "    <tr>\n",
       "      <th>23</th>\n",
       "      <td>non-owner</td>\n",
       "      <td>non-owner</td>\n",
       "    </tr>\n",
       "  </tbody>\n",
       "</table>\n",
       "</div>"
      ],
      "text/plain": [
       "       actual  predicted\n",
       "0       owner      owner\n",
       "1       owner      owner\n",
       "2       owner      owner\n",
       "3       owner      owner\n",
       "4       owner      owner\n",
       "5       owner      owner\n",
       "6       owner      owner\n",
       "7       owner      owner\n",
       "8       owner      owner\n",
       "9       owner      owner\n",
       "10      owner      owner\n",
       "11      owner      owner\n",
       "12  non-owner  non-owner\n",
       "13  non-owner  non-owner\n",
       "14  non-owner  non-owner\n",
       "15  non-owner  non-owner\n",
       "16  non-owner  non-owner\n",
       "17  non-owner  non-owner\n",
       "18  non-owner  non-owner\n",
       "19  non-owner  non-owner\n",
       "20  non-owner  non-owner\n",
       "21  non-owner  non-owner\n",
       "22  non-owner  non-owner\n",
       "23  non-owner  non-owner"
      ]
     },
     "execution_count": 13,
     "metadata": {},
     "output_type": "execute_result"
    }
   ],
   "source": [
    "# comparison of predictive vs Actual in complete data\n",
    "\n",
    "comparision_df = pd.DataFrame()\n",
    "\n",
    "comparision_df['actual'] = y\n",
    "comparision_df['predicted'] = y_pred\n",
    "\n",
    "comparision_df"
   ]
  },
  {
   "cell_type": "code",
   "execution_count": 9,
   "metadata": {
    "collapsed": true
   },
   "outputs": [],
   "source": [
    "#1: Import the model class that is gong to be used - Classification Tree\n",
    "from sklearn import tree"
   ]
  },
  {
   "cell_type": "code",
   "execution_count": 10,
   "metadata": {
    "collapsed": true
   },
   "outputs": [],
   "source": [
    "#2: Create the instance of the Model Estimator (instantiate the model)\n",
    "ctree = tree.DecisionTreeClassifier()"
   ]
  },
  {
   "cell_type": "code",
   "execution_count": 12,
   "metadata": {},
   "outputs": [
    {
     "data": {
      "text/plain": [
       "DecisionTreeClassifier(class_weight=None, criterion='gini', max_depth=None,\n",
       "            max_features=None, max_leaf_nodes=None,\n",
       "            min_impurity_split=1e-07, min_samples_leaf=1,\n",
       "            min_samples_split=2, min_weight_fraction_leaf=0.0,\n",
       "            presort=False, random_state=None, splitter='best')"
      ]
     },
     "execution_count": 12,
     "metadata": {},
     "output_type": "execute_result"
    }
   ],
   "source": [
    "ctree"
   ]
  },
  {
   "cell_type": "code",
   "execution_count": 28,
   "metadata": {
    "collapsed": true
   },
   "outputs": [],
   "source": [
    "#3 split the whole data into training and testing data\n",
    "from sklearn.model_selection import train_test_split\n",
    "\n",
    "x_train, x_test, y_train, y_test = train_test_split(x, y, test_size=0.4, random_state=8)"
   ]
  },
  {
   "cell_type": "code",
   "execution_count": 29,
   "metadata": {
    "collapsed": true
   },
   "outputs": [],
   "source": [
    "#4: train the model based on training data to learn the pattern from historical data\n",
    "ctree_model = ctree.fit(x_train, y_train)"
   ]
  },
  {
   "cell_type": "code",
   "execution_count": 30,
   "metadata": {},
   "outputs": [
    {
     "data": {
      "text/plain": [
       "DecisionTreeClassifier(class_weight=None, criterion='gini', max_depth=None,\n",
       "            max_features=None, max_leaf_nodes=None,\n",
       "            min_impurity_split=1e-07, min_samples_leaf=1,\n",
       "            min_samples_split=2, min_weight_fraction_leaf=0.0,\n",
       "            presort=False, random_state=None, splitter='best')"
      ]
     },
     "execution_count": 30,
     "metadata": {},
     "output_type": "execute_result"
    }
   ],
   "source": [
    "ctree_model"
   ]
  },
  {
   "cell_type": "code",
   "execution_count": 16,
   "metadata": {
    "collapsed": true
   },
   "outputs": [],
   "source": [
    "import graphviz"
   ]
  },
  {
   "cell_type": "code",
   "execution_count": 17,
   "metadata": {},
   "outputs": [
    {
     "data": {
      "image/svg+xml": [
       "<?xml version=\"1.0\" encoding=\"UTF-8\" standalone=\"no\"?>\r\n",
       "<!DOCTYPE svg PUBLIC \"-//W3C//DTD SVG 1.1//EN\"\r\n",
       " \"http://www.w3.org/Graphics/SVG/1.1/DTD/svg11.dtd\">\r\n",
       "<!-- Generated by graphviz version 2.38.0 (20140413.2041)\r\n",
       " -->\r\n",
       "<!-- Title: Tree Pages: 1 -->\r\n",
       "<svg width=\"408pt\" height=\"671pt\"\r\n",
       " viewBox=\"0.00 0.00 407.50 671.00\" xmlns=\"http://www.w3.org/2000/svg\" xmlns:xlink=\"http://www.w3.org/1999/xlink\">\r\n",
       "<g id=\"graph0\" class=\"graph\" transform=\"scale(1 1) rotate(0) translate(4 667)\">\r\n",
       "<title>Tree</title>\r\n",
       "<polygon fill=\"white\" stroke=\"none\" points=\"-4,4 -4,-667 403.5,-667 403.5,4 -4,4\"/>\r\n",
       "<!-- 0 -->\r\n",
       "<g id=\"node1\" class=\"node\"><title>0</title>\r\n",
       "<path fill=\"#399de5\" fill-opacity=\"0.250980\" stroke=\"black\" d=\"M181,-663C181,-663 98,-663 98,-663 92,-663 86,-657 86,-651 86,-651 86,-592 86,-592 86,-586 92,-580 98,-580 98,-580 181,-580 181,-580 187,-580 193,-586 193,-592 193,-592 193,-651 193,-651 193,-657 187,-663 181,-663\"/>\r\n",
       "<text text-anchor=\"start\" x=\"94\" y=\"-647.8\" font-family=\"Helvetica,sans-Serif\" font-size=\"14.00\">income ≤ 55.5</text>\r\n",
       "<text text-anchor=\"start\" x=\"98\" y=\"-632.8\" font-family=\"Helvetica,sans-Serif\" font-size=\"14.00\">gini = 0.4898</text>\r\n",
       "<text text-anchor=\"start\" x=\"96\" y=\"-617.8\" font-family=\"Helvetica,sans-Serif\" font-size=\"14.00\">samples = 14</text>\r\n",
       "<text text-anchor=\"start\" x=\"99\" y=\"-602.8\" font-family=\"Helvetica,sans-Serif\" font-size=\"14.00\">value = [6, 8]</text>\r\n",
       "<text text-anchor=\"start\" x=\"95.5\" y=\"-587.8\" font-family=\"Helvetica,sans-Serif\" font-size=\"14.00\">class = owner</text>\r\n",
       "</g>\r\n",
       "<!-- 1 -->\r\n",
       "<g id=\"node2\" class=\"node\"><title>1</title>\r\n",
       "<path fill=\"#e58139\" stroke=\"black\" d=\"M123,-536.5C123,-536.5 12,-536.5 12,-536.5 6,-536.5 0,-530.5 0,-524.5 0,-524.5 0,-480.5 0,-480.5 0,-474.5 6,-468.5 12,-468.5 12,-468.5 123,-468.5 123,-468.5 129,-468.5 135,-474.5 135,-480.5 135,-480.5 135,-524.5 135,-524.5 135,-530.5 129,-536.5 123,-536.5\"/>\r\n",
       "<text text-anchor=\"start\" x=\"38.5\" y=\"-521.3\" font-family=\"Helvetica,sans-Serif\" font-size=\"14.00\">gini = 0.0</text>\r\n",
       "<text text-anchor=\"start\" x=\"28\" y=\"-506.3\" font-family=\"Helvetica,sans-Serif\" font-size=\"14.00\">samples = 3</text>\r\n",
       "<text text-anchor=\"start\" x=\"27\" y=\"-491.3\" font-family=\"Helvetica,sans-Serif\" font-size=\"14.00\">value = [3, 0]</text>\r\n",
       "<text text-anchor=\"start\" x=\"8\" y=\"-476.3\" font-family=\"Helvetica,sans-Serif\" font-size=\"14.00\">class = non_owner</text>\r\n",
       "</g>\r\n",
       "<!-- 0&#45;&gt;1 -->\r\n",
       "<g id=\"edge1\" class=\"edge\"><title>0&#45;&gt;1</title>\r\n",
       "<path fill=\"none\" stroke=\"black\" d=\"M114.52,-579.907C107.662,-568.763 100.213,-556.658 93.3087,-545.439\"/>\r\n",
       "<polygon fill=\"black\" stroke=\"black\" points=\"96.1323,-543.349 87.9104,-536.667 90.1706,-547.018 96.1323,-543.349\"/>\r\n",
       "<text text-anchor=\"middle\" x=\"82.1199\" y=\"-557.287\" font-family=\"Helvetica,sans-Serif\" font-size=\"14.00\">True</text>\r\n",
       "</g>\r\n",
       "<!-- 2 -->\r\n",
       "<g id=\"node3\" class=\"node\"><title>2</title>\r\n",
       "<path fill=\"#399de5\" fill-opacity=\"0.623529\" stroke=\"black\" d=\"M258,-544C258,-544 165,-544 165,-544 159,-544 153,-538 153,-532 153,-532 153,-473 153,-473 153,-467 159,-461 165,-461 165,-461 258,-461 258,-461 264,-461 270,-467 270,-473 270,-473 270,-532 270,-532 270,-538 264,-544 258,-544\"/>\r\n",
       "<text text-anchor=\"start\" x=\"161\" y=\"-528.8\" font-family=\"Helvetica,sans-Serif\" font-size=\"14.00\">plot_size ≤ 15.8</text>\r\n",
       "<text text-anchor=\"start\" x=\"170\" y=\"-513.8\" font-family=\"Helvetica,sans-Serif\" font-size=\"14.00\">gini = 0.3967</text>\r\n",
       "<text text-anchor=\"start\" x=\"168\" y=\"-498.8\" font-family=\"Helvetica,sans-Serif\" font-size=\"14.00\">samples = 11</text>\r\n",
       "<text text-anchor=\"start\" x=\"171\" y=\"-483.8\" font-family=\"Helvetica,sans-Serif\" font-size=\"14.00\">value = [3, 8]</text>\r\n",
       "<text text-anchor=\"start\" x=\"167.5\" y=\"-468.8\" font-family=\"Helvetica,sans-Serif\" font-size=\"14.00\">class = owner</text>\r\n",
       "</g>\r\n",
       "<!-- 0&#45;&gt;2 -->\r\n",
       "<g id=\"edge2\" class=\"edge\"><title>0&#45;&gt;2</title>\r\n",
       "<path fill=\"none\" stroke=\"black\" d=\"M164.48,-579.907C169.897,-571.105 175.683,-561.703 181.277,-552.612\"/>\r\n",
       "<polygon fill=\"black\" stroke=\"black\" points=\"184.304,-554.372 186.564,-544.021 178.342,-550.703 184.304,-554.372\"/>\r\n",
       "<text text-anchor=\"middle\" x=\"192.355\" y=\"-564.641\" font-family=\"Helvetica,sans-Serif\" font-size=\"14.00\">False</text>\r\n",
       "</g>\r\n",
       "<!-- 3 -->\r\n",
       "<g id=\"node4\" class=\"node\"><title>3</title>\r\n",
       "<path fill=\"#e58139\" stroke=\"black\" d=\"M195,-417.5C195,-417.5 84,-417.5 84,-417.5 78,-417.5 72,-411.5 72,-405.5 72,-405.5 72,-361.5 72,-361.5 72,-355.5 78,-349.5 84,-349.5 84,-349.5 195,-349.5 195,-349.5 201,-349.5 207,-355.5 207,-361.5 207,-361.5 207,-405.5 207,-405.5 207,-411.5 201,-417.5 195,-417.5\"/>\r\n",
       "<text text-anchor=\"start\" x=\"110.5\" y=\"-402.3\" font-family=\"Helvetica,sans-Serif\" font-size=\"14.00\">gini = 0.0</text>\r\n",
       "<text text-anchor=\"start\" x=\"100\" y=\"-387.3\" font-family=\"Helvetica,sans-Serif\" font-size=\"14.00\">samples = 1</text>\r\n",
       "<text text-anchor=\"start\" x=\"99\" y=\"-372.3\" font-family=\"Helvetica,sans-Serif\" font-size=\"14.00\">value = [1, 0]</text>\r\n",
       "<text text-anchor=\"start\" x=\"80\" y=\"-357.3\" font-family=\"Helvetica,sans-Serif\" font-size=\"14.00\">class = non_owner</text>\r\n",
       "</g>\r\n",
       "<!-- 2&#45;&gt;3 -->\r\n",
       "<g id=\"edge3\" class=\"edge\"><title>2&#45;&gt;3</title>\r\n",
       "<path fill=\"none\" stroke=\"black\" d=\"M186.52,-460.907C179.662,-449.763 172.213,-437.658 165.309,-426.439\"/>\r\n",
       "<polygon fill=\"black\" stroke=\"black\" points=\"168.132,-424.349 159.91,-417.667 162.171,-428.018 168.132,-424.349\"/>\r\n",
       "</g>\r\n",
       "<!-- 4 -->\r\n",
       "<g id=\"node5\" class=\"node\"><title>4</title>\r\n",
       "<path fill=\"#399de5\" fill-opacity=\"0.749020\" stroke=\"black\" d=\"M330,-425C330,-425 237,-425 237,-425 231,-425 225,-419 225,-413 225,-413 225,-354 225,-354 225,-348 231,-342 237,-342 237,-342 330,-342 330,-342 336,-342 342,-348 342,-354 342,-354 342,-413 342,-413 342,-419 336,-425 330,-425\"/>\r\n",
       "<text text-anchor=\"start\" x=\"233\" y=\"-409.8\" font-family=\"Helvetica,sans-Serif\" font-size=\"14.00\">plot_size ≤ 19.8</text>\r\n",
       "<text text-anchor=\"start\" x=\"250\" y=\"-394.8\" font-family=\"Helvetica,sans-Serif\" font-size=\"14.00\">gini = 0.32</text>\r\n",
       "<text text-anchor=\"start\" x=\"240\" y=\"-379.8\" font-family=\"Helvetica,sans-Serif\" font-size=\"14.00\">samples = 10</text>\r\n",
       "<text text-anchor=\"start\" x=\"243\" y=\"-364.8\" font-family=\"Helvetica,sans-Serif\" font-size=\"14.00\">value = [2, 8]</text>\r\n",
       "<text text-anchor=\"start\" x=\"239.5\" y=\"-349.8\" font-family=\"Helvetica,sans-Serif\" font-size=\"14.00\">class = owner</text>\r\n",
       "</g>\r\n",
       "<!-- 2&#45;&gt;4 -->\r\n",
       "<g id=\"edge4\" class=\"edge\"><title>2&#45;&gt;4</title>\r\n",
       "<path fill=\"none\" stroke=\"black\" d=\"M236.48,-460.907C241.897,-452.105 247.683,-442.703 253.277,-433.612\"/>\r\n",
       "<polygon fill=\"black\" stroke=\"black\" points=\"256.304,-435.372 258.564,-425.021 250.342,-431.703 256.304,-435.372\"/>\r\n",
       "</g>\r\n",
       "<!-- 5 -->\r\n",
       "<g id=\"node6\" class=\"node\"><title>5</title>\r\n",
       "<path fill=\"#399de5\" fill-opacity=\"0.498039\" stroke=\"black\" d=\"M265,-306C265,-306 174,-306 174,-306 168,-306 162,-300 162,-294 162,-294 162,-235 162,-235 162,-229 168,-223 174,-223 174,-223 265,-223 265,-223 271,-223 277,-229 277,-235 277,-235 277,-294 277,-294 277,-300 271,-306 265,-306\"/>\r\n",
       "<text text-anchor=\"start\" x=\"170\" y=\"-290.8\" font-family=\"Helvetica,sans-Serif\" font-size=\"14.00\">income ≤ 84.75</text>\r\n",
       "<text text-anchor=\"start\" x=\"178\" y=\"-275.8\" font-family=\"Helvetica,sans-Serif\" font-size=\"14.00\">gini = 0.4444</text>\r\n",
       "<text text-anchor=\"start\" x=\"180\" y=\"-260.8\" font-family=\"Helvetica,sans-Serif\" font-size=\"14.00\">samples = 6</text>\r\n",
       "<text text-anchor=\"start\" x=\"179\" y=\"-245.8\" font-family=\"Helvetica,sans-Serif\" font-size=\"14.00\">value = [2, 4]</text>\r\n",
       "<text text-anchor=\"start\" x=\"175.5\" y=\"-230.8\" font-family=\"Helvetica,sans-Serif\" font-size=\"14.00\">class = owner</text>\r\n",
       "</g>\r\n",
       "<!-- 4&#45;&gt;5 -->\r\n",
       "<g id=\"edge5\" class=\"edge\"><title>4&#45;&gt;5</title>\r\n",
       "<path fill=\"none\" stroke=\"black\" d=\"M261.296,-341.907C256.53,-333.195 251.444,-323.897 246.519,-314.893\"/>\r\n",
       "<polygon fill=\"black\" stroke=\"black\" points=\"249.535,-313.114 241.665,-306.021 243.394,-316.474 249.535,-313.114\"/>\r\n",
       "</g>\r\n",
       "<!-- 10 -->\r\n",
       "<g id=\"node11\" class=\"node\"><title>10</title>\r\n",
       "<path fill=\"#399de5\" stroke=\"black\" d=\"M387.5,-298.5C387.5,-298.5 307.5,-298.5 307.5,-298.5 301.5,-298.5 295.5,-292.5 295.5,-286.5 295.5,-286.5 295.5,-242.5 295.5,-242.5 295.5,-236.5 301.5,-230.5 307.5,-230.5 307.5,-230.5 387.5,-230.5 387.5,-230.5 393.5,-230.5 399.5,-236.5 399.5,-242.5 399.5,-242.5 399.5,-286.5 399.5,-286.5 399.5,-292.5 393.5,-298.5 387.5,-298.5\"/>\r\n",
       "<text text-anchor=\"start\" x=\"318.5\" y=\"-283.3\" font-family=\"Helvetica,sans-Serif\" font-size=\"14.00\">gini = 0.0</text>\r\n",
       "<text text-anchor=\"start\" x=\"308\" y=\"-268.3\" font-family=\"Helvetica,sans-Serif\" font-size=\"14.00\">samples = 4</text>\r\n",
       "<text text-anchor=\"start\" x=\"307\" y=\"-253.3\" font-family=\"Helvetica,sans-Serif\" font-size=\"14.00\">value = [0, 4]</text>\r\n",
       "<text text-anchor=\"start\" x=\"303.5\" y=\"-238.3\" font-family=\"Helvetica,sans-Serif\" font-size=\"14.00\">class = owner</text>\r\n",
       "</g>\r\n",
       "<!-- 4&#45;&gt;10 -->\r\n",
       "<g id=\"edge10\" class=\"edge\"><title>4&#45;&gt;10</title>\r\n",
       "<path fill=\"none\" stroke=\"black\" d=\"M305.704,-341.907C311.74,-330.873 318.291,-318.898 324.376,-307.773\"/>\r\n",
       "<polygon fill=\"black\" stroke=\"black\" points=\"327.629,-309.12 329.357,-298.667 321.488,-305.76 327.629,-309.12\"/>\r\n",
       "</g>\r\n",
       "<!-- 6 -->\r\n",
       "<g id=\"node7\" class=\"node\"><title>6</title>\r\n",
       "<path fill=\"#e58139\" fill-opacity=\"0.498039\" stroke=\"black\" d=\"M206,-187C206,-187 95,-187 95,-187 89,-187 83,-181 83,-175 83,-175 83,-116 83,-116 83,-110 89,-104 95,-104 95,-104 206,-104 206,-104 212,-104 218,-110 218,-116 218,-116 218,-175 218,-175 218,-181 212,-187 206,-187\"/>\r\n",
       "<text text-anchor=\"start\" x=\"105\" y=\"-171.8\" font-family=\"Helvetica,sans-Serif\" font-size=\"14.00\">income ≤ 67.5</text>\r\n",
       "<text text-anchor=\"start\" x=\"109\" y=\"-156.8\" font-family=\"Helvetica,sans-Serif\" font-size=\"14.00\">gini = 0.4444</text>\r\n",
       "<text text-anchor=\"start\" x=\"111\" y=\"-141.8\" font-family=\"Helvetica,sans-Serif\" font-size=\"14.00\">samples = 3</text>\r\n",
       "<text text-anchor=\"start\" x=\"110\" y=\"-126.8\" font-family=\"Helvetica,sans-Serif\" font-size=\"14.00\">value = [2, 1]</text>\r\n",
       "<text text-anchor=\"start\" x=\"91\" y=\"-111.8\" font-family=\"Helvetica,sans-Serif\" font-size=\"14.00\">class = non_owner</text>\r\n",
       "</g>\r\n",
       "<!-- 5&#45;&gt;6 -->\r\n",
       "<g id=\"edge6\" class=\"edge\"><title>5&#45;&gt;6</title>\r\n",
       "<path fill=\"none\" stroke=\"black\" d=\"M195.561,-222.907C190.423,-214.195 184.939,-204.897 179.629,-195.893\"/>\r\n",
       "<polygon fill=\"black\" stroke=\"black\" points=\"182.492,-193.857 174.397,-187.021 176.462,-197.412 182.492,-193.857\"/>\r\n",
       "</g>\r\n",
       "<!-- 9 -->\r\n",
       "<g id=\"node10\" class=\"node\"><title>9</title>\r\n",
       "<path fill=\"#399de5\" stroke=\"black\" d=\"M328.5,-179.5C328.5,-179.5 248.5,-179.5 248.5,-179.5 242.5,-179.5 236.5,-173.5 236.5,-167.5 236.5,-167.5 236.5,-123.5 236.5,-123.5 236.5,-117.5 242.5,-111.5 248.5,-111.5 248.5,-111.5 328.5,-111.5 328.5,-111.5 334.5,-111.5 340.5,-117.5 340.5,-123.5 340.5,-123.5 340.5,-167.5 340.5,-167.5 340.5,-173.5 334.5,-179.5 328.5,-179.5\"/>\r\n",
       "<text text-anchor=\"start\" x=\"259.5\" y=\"-164.3\" font-family=\"Helvetica,sans-Serif\" font-size=\"14.00\">gini = 0.0</text>\r\n",
       "<text text-anchor=\"start\" x=\"249\" y=\"-149.3\" font-family=\"Helvetica,sans-Serif\" font-size=\"14.00\">samples = 3</text>\r\n",
       "<text text-anchor=\"start\" x=\"248\" y=\"-134.3\" font-family=\"Helvetica,sans-Serif\" font-size=\"14.00\">value = [0, 3]</text>\r\n",
       "<text text-anchor=\"start\" x=\"244.5\" y=\"-119.3\" font-family=\"Helvetica,sans-Serif\" font-size=\"14.00\">class = owner</text>\r\n",
       "</g>\r\n",
       "<!-- 5&#45;&gt;9 -->\r\n",
       "<g id=\"edge9\" class=\"edge\"><title>5&#45;&gt;9</title>\r\n",
       "<path fill=\"none\" stroke=\"black\" d=\"M243.439,-222.907C250.012,-211.763 257.15,-199.658 263.767,-188.439\"/>\r\n",
       "<polygon fill=\"black\" stroke=\"black\" points=\"266.875,-190.059 268.94,-179.667 260.845,-186.503 266.875,-190.059\"/>\r\n",
       "</g>\r\n",
       "<!-- 7 -->\r\n",
       "<g id=\"node8\" class=\"node\"><title>7</title>\r\n",
       "<path fill=\"#399de5\" stroke=\"black\" d=\"M121.5,-68C121.5,-68 41.5,-68 41.5,-68 35.5,-68 29.5,-62 29.5,-56 29.5,-56 29.5,-12 29.5,-12 29.5,-6 35.5,-0 41.5,-0 41.5,-0 121.5,-0 121.5,-0 127.5,-0 133.5,-6 133.5,-12 133.5,-12 133.5,-56 133.5,-56 133.5,-62 127.5,-68 121.5,-68\"/>\r\n",
       "<text text-anchor=\"start\" x=\"52.5\" y=\"-52.8\" font-family=\"Helvetica,sans-Serif\" font-size=\"14.00\">gini = 0.0</text>\r\n",
       "<text text-anchor=\"start\" x=\"42\" y=\"-37.8\" font-family=\"Helvetica,sans-Serif\" font-size=\"14.00\">samples = 1</text>\r\n",
       "<text text-anchor=\"start\" x=\"41\" y=\"-22.8\" font-family=\"Helvetica,sans-Serif\" font-size=\"14.00\">value = [0, 1]</text>\r\n",
       "<text text-anchor=\"start\" x=\"37.5\" y=\"-7.8\" font-family=\"Helvetica,sans-Serif\" font-size=\"14.00\">class = owner</text>\r\n",
       "</g>\r\n",
       "<!-- 6&#45;&gt;7 -->\r\n",
       "<g id=\"edge7\" class=\"edge\"><title>6&#45;&gt;7</title>\r\n",
       "<path fill=\"none\" stroke=\"black\" d=\"M124.807,-103.726C119.289,-94.9703 113.45,-85.7032 107.906,-76.9051\"/>\r\n",
       "<polygon fill=\"black\" stroke=\"black\" points=\"110.776,-74.8941 102.483,-68.2996 104.853,-78.6259 110.776,-74.8941\"/>\r\n",
       "</g>\r\n",
       "<!-- 8 -->\r\n",
       "<g id=\"node9\" class=\"node\"><title>8</title>\r\n",
       "<path fill=\"#e58139\" stroke=\"black\" d=\"M275,-68C275,-68 164,-68 164,-68 158,-68 152,-62 152,-56 152,-56 152,-12 152,-12 152,-6 158,-0 164,-0 164,-0 275,-0 275,-0 281,-0 287,-6 287,-12 287,-12 287,-56 287,-56 287,-62 281,-68 275,-68\"/>\r\n",
       "<text text-anchor=\"start\" x=\"190.5\" y=\"-52.8\" font-family=\"Helvetica,sans-Serif\" font-size=\"14.00\">gini = 0.0</text>\r\n",
       "<text text-anchor=\"start\" x=\"180\" y=\"-37.8\" font-family=\"Helvetica,sans-Serif\" font-size=\"14.00\">samples = 2</text>\r\n",
       "<text text-anchor=\"start\" x=\"179\" y=\"-22.8\" font-family=\"Helvetica,sans-Serif\" font-size=\"14.00\">value = [2, 0]</text>\r\n",
       "<text text-anchor=\"start\" x=\"160\" y=\"-7.8\" font-family=\"Helvetica,sans-Serif\" font-size=\"14.00\">class = non_owner</text>\r\n",
       "</g>\r\n",
       "<!-- 6&#45;&gt;8 -->\r\n",
       "<g id=\"edge8\" class=\"edge\"><title>6&#45;&gt;8</title>\r\n",
       "<path fill=\"none\" stroke=\"black\" d=\"M176.193,-103.726C181.711,-94.9703 187.55,-85.7032 193.094,-76.9051\"/>\r\n",
       "<polygon fill=\"black\" stroke=\"black\" points=\"196.147,-78.6259 198.517,-68.2996 190.224,-74.8941 196.147,-78.6259\"/>\r\n",
       "</g>\r\n",
       "</g>\r\n",
       "</svg>\r\n"
      ],
      "text/plain": [
       "<graphviz.files.Source at 0x17007e9d68>"
      ]
     },
     "execution_count": 17,
     "metadata": {},
     "output_type": "execute_result"
    }
   ],
   "source": [
    "tree_data = tree.export_graphviz(ctree_model, out_file=None, \n",
    "                                 feature_names=x.columns, \n",
    "                                 class_names = ['non_owner', 'owner'],\n",
    "                                 filled=True,\n",
    "                                 rounded=True, \n",
    "                                 special_characters=True\n",
    "                                 )\n",
    "graph = graphviz.Source(tree_data)\n",
    "graph"
   ]
  },
  {
   "cell_type": "code",
   "execution_count": 18,
   "metadata": {},
   "outputs": [
    {
     "name": "stdout",
     "output_type": "stream",
     "text": [
      "1.0\n"
     ]
    }
   ],
   "source": [
    "# Training accuracy\n",
    "y_train_pred = ctree_model.predict(x_train)\n",
    "print(metrics.accuracy_score(y_train, y_train_pred))"
   ]
  },
  {
   "cell_type": "code",
   "execution_count": 19,
   "metadata": {},
   "outputs": [
    {
     "data": {
      "text/html": [
       "<div>\n",
       "<table border=\"1\" class=\"dataframe\">\n",
       "  <thead>\n",
       "    <tr style=\"text-align: right;\">\n",
       "      <th></th>\n",
       "      <th>income</th>\n",
       "      <th>plot_size</th>\n",
       "    </tr>\n",
       "  </thead>\n",
       "  <tbody>\n",
       "    <tr>\n",
       "      <th>13</th>\n",
       "      <td>52.8</td>\n",
       "      <td>20.8</td>\n",
       "    </tr>\n",
       "    <tr>\n",
       "      <th>18</th>\n",
       "      <td>59.4</td>\n",
       "      <td>16.0</td>\n",
       "    </tr>\n",
       "    <tr>\n",
       "      <th>3</th>\n",
       "      <td>61.5</td>\n",
       "      <td>20.8</td>\n",
       "    </tr>\n",
       "    <tr>\n",
       "      <th>14</th>\n",
       "      <td>64.8</td>\n",
       "      <td>17.2</td>\n",
       "    </tr>\n",
       "    <tr>\n",
       "      <th>20</th>\n",
       "      <td>47.4</td>\n",
       "      <td>16.4</td>\n",
       "    </tr>\n",
       "    <tr>\n",
       "      <th>17</th>\n",
       "      <td>49.2</td>\n",
       "      <td>17.6</td>\n",
       "    </tr>\n",
       "    <tr>\n",
       "      <th>10</th>\n",
       "      <td>51.0</td>\n",
       "      <td>22.0</td>\n",
       "    </tr>\n",
       "    <tr>\n",
       "      <th>4</th>\n",
       "      <td>87.0</td>\n",
       "      <td>23.6</td>\n",
       "    </tr>\n",
       "    <tr>\n",
       "      <th>2</th>\n",
       "      <td>64.8</td>\n",
       "      <td>21.6</td>\n",
       "    </tr>\n",
       "    <tr>\n",
       "      <th>19</th>\n",
       "      <td>66.0</td>\n",
       "      <td>18.4</td>\n",
       "    </tr>\n",
       "  </tbody>\n",
       "</table>\n",
       "</div>"
      ],
      "text/plain": [
       "    income  plot_size\n",
       "13    52.8       20.8\n",
       "18    59.4       16.0\n",
       "3     61.5       20.8\n",
       "14    64.8       17.2\n",
       "20    47.4       16.4\n",
       "17    49.2       17.6\n",
       "10    51.0       22.0\n",
       "4     87.0       23.6\n",
       "2     64.8       21.6\n",
       "19    66.0       18.4"
      ]
     },
     "execution_count": 19,
     "metadata": {},
     "output_type": "execute_result"
    }
   ],
   "source": [
    "x_test"
   ]
  },
  {
   "cell_type": "code",
   "execution_count": 20,
   "metadata": {},
   "outputs": [
    {
     "data": {
      "text/plain": [
       "13    non-owner\n",
       "18    non-owner\n",
       "3         owner\n",
       "14    non-owner\n",
       "20    non-owner\n",
       "17    non-owner\n",
       "10        owner\n",
       "4         owner\n",
       "2         owner\n",
       "19    non-owner\n",
       "Name: owner, dtype: object"
      ]
     },
     "execution_count": 20,
     "metadata": {},
     "output_type": "execute_result"
    }
   ],
   "source": [
    "y_test"
   ]
  },
  {
   "cell_type": "code",
   "execution_count": 31,
   "metadata": {},
   "outputs": [
    {
     "name": "stdout",
     "output_type": "stream",
     "text": [
      "0.8\n"
     ]
    }
   ],
   "source": [
    "# Testing accuracy\n",
    "y_test_pred = ctree_model.predict(x_test)\n",
    "print(metrics.accuracy_score(y_test, y_test_pred))"
   ]
  },
  {
   "cell_type": "code",
   "execution_count": 22,
   "metadata": {},
   "outputs": [
    {
     "name": "stdout",
     "output_type": "stream",
     "text": [
      "13    non-owner\n",
      "18    non-owner\n",
      "3         owner\n",
      "14    non-owner\n",
      "20    non-owner\n",
      "17    non-owner\n",
      "10        owner\n",
      "4         owner\n",
      "2         owner\n",
      "19    non-owner\n",
      "Name: owner, dtype: object\n"
     ]
    }
   ],
   "source": [
    "print(y_test)"
   ]
  },
  {
   "cell_type": "code",
   "execution_count": 23,
   "metadata": {},
   "outputs": [
    {
     "data": {
      "text/html": [
       "<div>\n",
       "<table border=\"1\" class=\"dataframe\">\n",
       "  <thead>\n",
       "    <tr style=\"text-align: right;\">\n",
       "      <th></th>\n",
       "      <th>actual</th>\n",
       "      <th>predicted</th>\n",
       "    </tr>\n",
       "  </thead>\n",
       "  <tbody>\n",
       "    <tr>\n",
       "      <th>13</th>\n",
       "      <td>non-owner</td>\n",
       "      <td>non-owner</td>\n",
       "    </tr>\n",
       "    <tr>\n",
       "      <th>18</th>\n",
       "      <td>non-owner</td>\n",
       "      <td>owner</td>\n",
       "    </tr>\n",
       "    <tr>\n",
       "      <th>3</th>\n",
       "      <td>owner</td>\n",
       "      <td>owner</td>\n",
       "    </tr>\n",
       "    <tr>\n",
       "      <th>14</th>\n",
       "      <td>non-owner</td>\n",
       "      <td>owner</td>\n",
       "    </tr>\n",
       "    <tr>\n",
       "      <th>20</th>\n",
       "      <td>non-owner</td>\n",
       "      <td>non-owner</td>\n",
       "    </tr>\n",
       "    <tr>\n",
       "      <th>17</th>\n",
       "      <td>non-owner</td>\n",
       "      <td>non-owner</td>\n",
       "    </tr>\n",
       "    <tr>\n",
       "      <th>10</th>\n",
       "      <td>owner</td>\n",
       "      <td>non-owner</td>\n",
       "    </tr>\n",
       "    <tr>\n",
       "      <th>4</th>\n",
       "      <td>owner</td>\n",
       "      <td>owner</td>\n",
       "    </tr>\n",
       "    <tr>\n",
       "      <th>2</th>\n",
       "      <td>owner</td>\n",
       "      <td>owner</td>\n",
       "    </tr>\n",
       "    <tr>\n",
       "      <th>19</th>\n",
       "      <td>non-owner</td>\n",
       "      <td>owner</td>\n",
       "    </tr>\n",
       "  </tbody>\n",
       "</table>\n",
       "</div>"
      ],
      "text/plain": [
       "       actual  predicted\n",
       "13  non-owner  non-owner\n",
       "18  non-owner      owner\n",
       "3       owner      owner\n",
       "14  non-owner      owner\n",
       "20  non-owner  non-owner\n",
       "17  non-owner  non-owner\n",
       "10      owner  non-owner\n",
       "4       owner      owner\n",
       "2       owner      owner\n",
       "19  non-owner      owner"
      ]
     },
     "execution_count": 23,
     "metadata": {},
     "output_type": "execute_result"
    }
   ],
   "source": [
    "# comparison of predictive vs Actual in test data\n",
    "\n",
    "comparision_df = pd.DataFrame()\n",
    "\n",
    "comparision_df['actual'] = y_test\n",
    "comparision_df['predicted'] = y_test_pred\n",
    "\n",
    "comparision_df"
   ]
  },
  {
   "cell_type": "code",
   "execution_count": 32,
   "metadata": {
    "collapsed": true
   },
   "outputs": [],
   "source": [
    "# Model Tuning to improve the model predictive performance on test data\n",
    "from sklearn.model_selection import GridSearchCV"
   ]
  },
  {
   "cell_type": "code",
   "execution_count": 33,
   "metadata": {
    "collapsed": true
   },
   "outputs": [],
   "source": [
    "param_grid = { \"criterion\"      : ['gini', 'entropy'],    \n",
    "               \"max_features\"   : [1, 2 ],             \n",
    "               \"splitter\"       : ['best', 'random'],  \n",
    "               \"min_samples_split\"  : [2, 3],\n",
    "               \"min_samples_leaf\"  : [ 2, 3]\n",
    "                \n",
    "                }\n"
   ]
  },
  {
   "cell_type": "code",
   "execution_count": 35,
   "metadata": {
    "collapsed": true
   },
   "outputs": [],
   "source": [
    "optimized_tree = GridSearchCV(ctree_model, param_grid, scoring = 'accuracy', cv = 5)"
   ]
  },
  {
   "cell_type": "code",
   "execution_count": 36,
   "metadata": {},
   "outputs": [
    {
     "data": {
      "text/plain": [
       "GridSearchCV(cv=5, error_score='raise',\n",
       "       estimator=DecisionTreeClassifier(class_weight=None, criterion='gini', max_depth=None,\n",
       "            max_features=None, max_leaf_nodes=None,\n",
       "            min_impurity_split=1e-07, min_samples_leaf=1,\n",
       "            min_samples_split=2, min_weight_fraction_leaf=0.0,\n",
       "            presort=False, random_state=None, splitter='best'),\n",
       "       fit_params={}, iid=True, n_jobs=1,\n",
       "       param_grid={'criterion': ['gini', 'entropy'], 'max_features': [1, 2], 'splitter': ['best', 'random'], 'min_samples_split': [2, 3], 'min_samples_leaf': [2, 3]},\n",
       "       pre_dispatch='2*n_jobs', refit=True, return_train_score=True,\n",
       "       scoring='accuracy', verbose=0)"
      ]
     },
     "execution_count": 36,
     "metadata": {},
     "output_type": "execute_result"
    }
   ],
   "source": [
    "optimized_tree.fit(x_train, y_train)\n",
    "#optimized_tree.fit(x, y)"
   ]
  },
  {
   "cell_type": "code",
   "execution_count": 39,
   "metadata": {},
   "outputs": [
    {
     "data": {
      "text/plain": [
       "0.7142857142857143"
      ]
     },
     "execution_count": 39,
     "metadata": {},
     "output_type": "execute_result"
    }
   ],
   "source": [
    "optimized_tree.best_score_"
   ]
  },
  {
   "cell_type": "code",
   "execution_count": 38,
   "metadata": {},
   "outputs": [
    {
     "data": {
      "text/plain": [
       "{'criterion': 'gini',\n",
       " 'max_features': 1,\n",
       " 'min_samples_leaf': 3,\n",
       " 'min_samples_split': 2,\n",
       " 'splitter': 'best'}"
      ]
     },
     "execution_count": 38,
     "metadata": {},
     "output_type": "execute_result"
    }
   ],
   "source": [
    "optimized_tree.best_params_"
   ]
  },
  {
   "cell_type": "code",
   "execution_count": null,
   "metadata": {
    "collapsed": true
   },
   "outputs": [],
   "source": [
    "optimized_tree.best_estimator_"
   ]
  },
  {
   "cell_type": "code",
   "execution_count": 37,
   "metadata": {},
   "outputs": [
    {
     "name": "stderr",
     "output_type": "stream",
     "text": [
      "C:\\Users\\jp\\Anaconda3\\lib\\site-packages\\sklearn\\model_selection\\_search.py:667: DeprecationWarning: The grid_scores_ attribute was deprecated in version 0.18 in favor of the more elaborate cv_results_ attribute. The grid_scores_ attribute will not be available from 0.20\n",
      "  DeprecationWarning)\n"
     ]
    },
    {
     "data": {
      "text/plain": [
       "[mean: 0.50000, std: 0.26667, params: {'criterion': 'gini', 'max_features': 1, 'min_samples_leaf': 2, 'min_samples_split': 2, 'splitter': 'best'},\n",
       " mean: 0.57143, std: 0.08165, params: {'criterion': 'gini', 'max_features': 1, 'min_samples_leaf': 2, 'min_samples_split': 2, 'splitter': 'random'},\n",
       " mean: 0.42857, std: 0.14530, params: {'criterion': 'gini', 'max_features': 1, 'min_samples_leaf': 2, 'min_samples_split': 3, 'splitter': 'best'},\n",
       " mean: 0.57143, std: 0.08165, params: {'criterion': 'gini', 'max_features': 1, 'min_samples_leaf': 2, 'min_samples_split': 3, 'splitter': 'random'},\n",
       " mean: 0.71429, std: 0.20000, params: {'criterion': 'gini', 'max_features': 1, 'min_samples_leaf': 3, 'min_samples_split': 2, 'splitter': 'best'},\n",
       " mean: 0.50000, std: 0.15275, params: {'criterion': 'gini', 'max_features': 1, 'min_samples_leaf': 3, 'min_samples_split': 2, 'splitter': 'random'},\n",
       " mean: 0.71429, std: 0.20000, params: {'criterion': 'gini', 'max_features': 1, 'min_samples_leaf': 3, 'min_samples_split': 3, 'splitter': 'best'},\n",
       " mean: 0.57143, std: 0.08165, params: {'criterion': 'gini', 'max_features': 1, 'min_samples_leaf': 3, 'min_samples_split': 3, 'splitter': 'random'},\n",
       " mean: 0.57143, std: 0.31798, params: {'criterion': 'gini', 'max_features': 2, 'min_samples_leaf': 2, 'min_samples_split': 2, 'splitter': 'best'},\n",
       " mean: 0.64286, std: 0.18257, params: {'criterion': 'gini', 'max_features': 2, 'min_samples_leaf': 2, 'min_samples_split': 2, 'splitter': 'random'},\n",
       " mean: 0.57143, std: 0.31798, params: {'criterion': 'gini', 'max_features': 2, 'min_samples_leaf': 2, 'min_samples_split': 3, 'splitter': 'best'},\n",
       " mean: 0.71429, std: 0.20000, params: {'criterion': 'gini', 'max_features': 2, 'min_samples_leaf': 2, 'min_samples_split': 3, 'splitter': 'random'},\n",
       " mean: 0.64286, std: 0.26667, params: {'criterion': 'gini', 'max_features': 2, 'min_samples_leaf': 3, 'min_samples_split': 2, 'splitter': 'best'},\n",
       " mean: 0.64286, std: 0.18257, params: {'criterion': 'gini', 'max_features': 2, 'min_samples_leaf': 3, 'min_samples_split': 2, 'splitter': 'random'},\n",
       " mean: 0.64286, std: 0.26667, params: {'criterion': 'gini', 'max_features': 2, 'min_samples_leaf': 3, 'min_samples_split': 3, 'splitter': 'best'},\n",
       " mean: 0.64286, std: 0.18257, params: {'criterion': 'gini', 'max_features': 2, 'min_samples_leaf': 3, 'min_samples_split': 3, 'splitter': 'random'},\n",
       " mean: 0.57143, std: 0.31798, params: {'criterion': 'entropy', 'max_features': 1, 'min_samples_leaf': 2, 'min_samples_split': 2, 'splitter': 'best'},\n",
       " mean: 0.57143, std: 0.24495, params: {'criterion': 'entropy', 'max_features': 1, 'min_samples_leaf': 2, 'min_samples_split': 2, 'splitter': 'random'},\n",
       " mean: 0.57143, std: 0.31798, params: {'criterion': 'entropy', 'max_features': 1, 'min_samples_leaf': 2, 'min_samples_split': 3, 'splitter': 'best'},\n",
       " mean: 0.64286, std: 0.18257, params: {'criterion': 'entropy', 'max_features': 1, 'min_samples_leaf': 2, 'min_samples_split': 3, 'splitter': 'random'},\n",
       " mean: 0.64286, std: 0.27689, params: {'criterion': 'entropy', 'max_features': 1, 'min_samples_leaf': 3, 'min_samples_split': 2, 'splitter': 'best'},\n",
       " mean: 0.64286, std: 0.18257, params: {'criterion': 'entropy', 'max_features': 1, 'min_samples_leaf': 3, 'min_samples_split': 2, 'splitter': 'random'},\n",
       " mean: 0.57143, std: 0.08165, params: {'criterion': 'entropy', 'max_features': 1, 'min_samples_leaf': 3, 'min_samples_split': 3, 'splitter': 'best'},\n",
       " mean: 0.64286, std: 0.10000, params: {'criterion': 'entropy', 'max_features': 1, 'min_samples_leaf': 3, 'min_samples_split': 3, 'splitter': 'random'},\n",
       " mean: 0.57143, std: 0.31798, params: {'criterion': 'entropy', 'max_features': 2, 'min_samples_leaf': 2, 'min_samples_split': 2, 'splitter': 'best'},\n",
       " mean: 0.57143, std: 0.31798, params: {'criterion': 'entropy', 'max_features': 2, 'min_samples_leaf': 2, 'min_samples_split': 2, 'splitter': 'random'},\n",
       " mean: 0.57143, std: 0.31798, params: {'criterion': 'entropy', 'max_features': 2, 'min_samples_leaf': 2, 'min_samples_split': 3, 'splitter': 'best'},\n",
       " mean: 0.57143, std: 0.24495, params: {'criterion': 'entropy', 'max_features': 2, 'min_samples_leaf': 2, 'min_samples_split': 3, 'splitter': 'random'},\n",
       " mean: 0.64286, std: 0.26667, params: {'criterion': 'entropy', 'max_features': 2, 'min_samples_leaf': 3, 'min_samples_split': 2, 'splitter': 'best'},\n",
       " mean: 0.71429, std: 0.22608, params: {'criterion': 'entropy', 'max_features': 2, 'min_samples_leaf': 3, 'min_samples_split': 2, 'splitter': 'random'},\n",
       " mean: 0.64286, std: 0.26667, params: {'criterion': 'entropy', 'max_features': 2, 'min_samples_leaf': 3, 'min_samples_split': 3, 'splitter': 'best'},\n",
       " mean: 0.64286, std: 0.18257, params: {'criterion': 'entropy', 'max_features': 2, 'min_samples_leaf': 3, 'min_samples_split': 3, 'splitter': 'random'}]"
      ]
     },
     "execution_count": 37,
     "metadata": {},
     "output_type": "execute_result"
    }
   ],
   "source": [
    "optimized_tree.grid_scores_\n",
    "#optimized_tree.cv_results_"
   ]
  },
  {
   "cell_type": "code",
   "execution_count": null,
   "metadata": {
    "collapsed": true
   },
   "outputs": [],
   "source": [
    "best_parms = optimized_tree.best_params_\n",
    "best_parms"
   ]
  },
  {
   "cell_type": "code",
   "execution_count": null,
   "metadata": {
    "collapsed": true
   },
   "outputs": [],
   "source": [
    "ctree_final = tree.DecisionTreeClassifier(criterion = 'gini', max_features = 2, min_samples_leaf = 2, min_samples_split = 3, \n",
    "                                          splitter = 'random')"
   ]
  },
  {
   "cell_type": "code",
   "execution_count": 41,
   "metadata": {},
   "outputs": [
    {
     "data": {
      "text/plain": [
       "0.69999999999999996"
      ]
     },
     "execution_count": 41,
     "metadata": {},
     "output_type": "execute_result"
    }
   ],
   "source": [
    "# test accuracy for differrent random samples\n",
    "x_train, x_test, y_train, y_test = train_test_split(x, y, test_size=0.4, random_state=1)\n",
    "\n",
    "ctree_final = tree.DecisionTreeClassifier(criterion = 'gini', max_features = 2, min_samples_leaf = 2, min_samples_split = 2, splitter = 'random')\n",
    "model_f = ctree_final.fit(x_train, y_train)\n",
    "\n",
    "y_pred = model_f.predict(x_test)\n",
    "metrics.accuracy_score(y_pred, y_test) # test accuracy"
   ]
  },
  {
   "cell_type": "code",
   "execution_count": 42,
   "metadata": {},
   "outputs": [
    {
     "data": {
      "text/plain": [
       "array([ 0. ,  0.5,  1. ,  1. ,  1. ,  1. ,  0.5,  1. ,  0.5,  1. ])"
      ]
     },
     "execution_count": 42,
     "metadata": {},
     "output_type": "execute_result"
    }
   ],
   "source": [
    "# Cross Validaiton Accuracy of classification tree\n",
    "from sklearn.model_selection import cross_val_score\n",
    "ctree_final = tree.DecisionTreeClassifier(criterion = 'gini', max_features = 2, min_samples_leaf = 2, min_samples_split = 3, splitter = 'random')\n",
    "cv_scores = cross_val_score(ctree_final, x, y, cv=10, scoring='accuracy')\n",
    "cv_scores"
   ]
  },
  {
   "cell_type": "code",
   "execution_count": 43,
   "metadata": {},
   "outputs": [
    {
     "data": {
      "text/plain": [
       "0.75"
      ]
     },
     "execution_count": 43,
     "metadata": {},
     "output_type": "execute_result"
    }
   ],
   "source": [
    "cv_scores.mean()"
   ]
  },
  {
   "cell_type": "code",
   "execution_count": 44,
   "metadata": {},
   "outputs": [
    {
     "data": {
      "text/plain": [
       "array(['owner'], dtype=object)"
      ]
     },
     "execution_count": 44,
     "metadata": {},
     "output_type": "execute_result"
    }
   ],
   "source": [
    "# Predict some new data\n",
    "ctree_model.predict([[60, 20]])"
   ]
  },
  {
   "cell_type": "code",
   "execution_count": null,
   "metadata": {
    "collapsed": true
   },
   "outputs": [],
   "source": []
  }
 ],
 "metadata": {
  "kernelspec": {
   "display_name": "Python 3",
   "language": "python",
   "name": "python3"
  },
  "language_info": {
   "codemirror_mode": {
    "name": "ipython",
    "version": 3
   },
   "file_extension": ".py",
   "mimetype": "text/x-python",
   "name": "python",
   "nbconvert_exporter": "python",
   "pygments_lexer": "ipython3",
   "version": "3.6.0"
  }
 },
 "nbformat": 4,
 "nbformat_minor": 2
}
