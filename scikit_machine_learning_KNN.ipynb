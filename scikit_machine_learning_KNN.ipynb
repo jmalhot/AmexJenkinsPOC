{
 "cells": [
  {
   "cell_type": "markdown",
   "metadata": {},
   "source": [
    "###### KNN Modeling\n"
   ]
  },
  {
   "cell_type": "code",
   "execution_count": 58,
   "metadata": {
    "collapsed": true
   },
   "outputs": [],
   "source": [
    "import numpy as np\n",
    "import pandas as pd\n",
    "import matplotlib.pyplot as plt\n",
    "from sklearn.model_selection import GridSearchCV\n",
    "from sklearn.model_selection import cross_val_score\n",
    "from sklearn import metrics\n",
    "\n",
    "%matplotlib inline"
   ]
  },
  {
   "cell_type": "code",
   "execution_count": 59,
   "metadata": {},
   "outputs": [
    {
     "name": "stdout",
     "output_type": "stream",
     "text": [
      "The scikit-learn version is 0.18.1.\n"
     ]
    }
   ],
   "source": [
    "import sklearn as sklearn\n",
    "print('The scikit-learn version is {}.'.format(sklearn.__version__))"
   ]
  },
  {
   "cell_type": "markdown",
   "metadata": {},
   "source": [
    "###  Predict the diabetes status of a female patient given (label) their health measurements\n",
    "\n",
    "- Attribute Information:\n",
    "\n",
    "   -  pregnant -  Number of times pregnant \n",
    "   -  glucose  -  Plasma glucose concentration a 2 hours in an oral glucose tolerance test \n",
    "   -  bp       -  Diastolic blood pressure (mm Hg) \n",
    "   -  skin     -  Triceps skin fold thickness (mm) \n",
    "   -  insulin  -  2-Hour serum insulin (mu U/ml) \n",
    "   -  bmi      -  Body mass index (weight in kg/(height in m)^2) \n",
    "   -  pedigree -  Diabetes pedigree function \n",
    "   -  age      -  Age (years) \n",
    "   -  diabetes - Class variable (0 or 1) "
   ]
  },
  {
   "cell_type": "code",
   "execution_count": 60,
   "metadata": {
    "collapsed": true
   },
   "outputs": [],
   "source": [
    "col_names = ['pregnant', 'glucose', 'bp', 'skin', 'insulin', 'bmi', 'pedigree', 'age', 'diabetes']\n",
    "pima_data = pd.read_csv('C:\\\\Users\\\\jp\\\\Desktop\\\\testData\\\\pima-indians-diabetes.csv', header=None, names=col_names)"
   ]
  },
  {
   "cell_type": "code",
   "execution_count": 61,
   "metadata": {},
   "outputs": [
    {
     "data": {
      "text/html": [
       "<div>\n",
       "<table border=\"1\" class=\"dataframe\">\n",
       "  <thead>\n",
       "    <tr style=\"text-align: right;\">\n",
       "      <th></th>\n",
       "      <th>pregnant</th>\n",
       "      <th>glucose</th>\n",
       "      <th>bp</th>\n",
       "      <th>skin</th>\n",
       "      <th>insulin</th>\n",
       "      <th>bmi</th>\n",
       "      <th>pedigree</th>\n",
       "      <th>age</th>\n",
       "      <th>diabetes</th>\n",
       "    </tr>\n",
       "  </thead>\n",
       "  <tbody>\n",
       "    <tr>\n",
       "      <th>0</th>\n",
       "      <td>6</td>\n",
       "      <td>148</td>\n",
       "      <td>72</td>\n",
       "      <td>35</td>\n",
       "      <td>0</td>\n",
       "      <td>33.6</td>\n",
       "      <td>0.627</td>\n",
       "      <td>50</td>\n",
       "      <td>1</td>\n",
       "    </tr>\n",
       "    <tr>\n",
       "      <th>1</th>\n",
       "      <td>1</td>\n",
       "      <td>85</td>\n",
       "      <td>66</td>\n",
       "      <td>29</td>\n",
       "      <td>0</td>\n",
       "      <td>26.6</td>\n",
       "      <td>0.351</td>\n",
       "      <td>31</td>\n",
       "      <td>0</td>\n",
       "    </tr>\n",
       "    <tr>\n",
       "      <th>2</th>\n",
       "      <td>8</td>\n",
       "      <td>183</td>\n",
       "      <td>64</td>\n",
       "      <td>0</td>\n",
       "      <td>0</td>\n",
       "      <td>23.3</td>\n",
       "      <td>0.672</td>\n",
       "      <td>32</td>\n",
       "      <td>1</td>\n",
       "    </tr>\n",
       "    <tr>\n",
       "      <th>3</th>\n",
       "      <td>1</td>\n",
       "      <td>89</td>\n",
       "      <td>66</td>\n",
       "      <td>23</td>\n",
       "      <td>94</td>\n",
       "      <td>28.1</td>\n",
       "      <td>0.167</td>\n",
       "      <td>21</td>\n",
       "      <td>0</td>\n",
       "    </tr>\n",
       "    <tr>\n",
       "      <th>4</th>\n",
       "      <td>0</td>\n",
       "      <td>137</td>\n",
       "      <td>40</td>\n",
       "      <td>35</td>\n",
       "      <td>168</td>\n",
       "      <td>43.1</td>\n",
       "      <td>2.288</td>\n",
       "      <td>33</td>\n",
       "      <td>1</td>\n",
       "    </tr>\n",
       "  </tbody>\n",
       "</table>\n",
       "</div>"
      ],
      "text/plain": [
       "   pregnant  glucose  bp  skin  insulin   bmi  pedigree  age  diabetes\n",
       "0         6      148  72    35        0  33.6     0.627   50         1\n",
       "1         1       85  66    29        0  26.6     0.351   31         0\n",
       "2         8      183  64     0        0  23.3     0.672   32         1\n",
       "3         1       89  66    23       94  28.1     0.167   21         0\n",
       "4         0      137  40    35      168  43.1     2.288   33         1"
      ]
     },
     "execution_count": 61,
     "metadata": {},
     "output_type": "execute_result"
    }
   ],
   "source": [
    "pima_data.head()"
   ]
  },
  {
   "cell_type": "code",
   "execution_count": 5,
   "metadata": {},
   "outputs": [
    {
     "data": {
      "text/plain": [
       "(768, 9)"
      ]
     },
     "execution_count": 5,
     "metadata": {},
     "output_type": "execute_result"
    }
   ],
   "source": [
    "pima_data.shape"
   ]
  },
  {
   "cell_type": "code",
   "execution_count": 6,
   "metadata": {},
   "outputs": [
    {
     "name": "stdout",
     "output_type": "stream",
     "text": [
      "<class 'pandas.core.frame.DataFrame'>\n",
      "RangeIndex: 768 entries, 0 to 767\n",
      "Data columns (total 9 columns):\n",
      "pregnant    768 non-null int64\n",
      "glucose     768 non-null int64\n",
      "bp          768 non-null int64\n",
      "skin        768 non-null int64\n",
      "insulin     768 non-null int64\n",
      "bmi         768 non-null float64\n",
      "pedigree    768 non-null float64\n",
      "age         768 non-null int64\n",
      "diabetes    768 non-null int64\n",
      "dtypes: float64(2), int64(7)\n",
      "memory usage: 54.1 KB\n"
     ]
    }
   ],
   "source": [
    "# pima_data summary\n",
    "pima_data.info()   # 4 columns are numeric and 5th column is categorical"
   ]
  },
  {
   "cell_type": "markdown",
   "metadata": {},
   "source": [
    "### Scikit-Learn data format to perform modeling\n",
    "- predictors and response should be numpy arrays\n",
    "- predictors and response are seperate object"
   ]
  },
  {
   "cell_type": "code",
   "execution_count": 7,
   "metadata": {},
   "outputs": [
    {
     "name": "stdout",
     "output_type": "stream",
     "text": [
      "<class 'pandas.core.series.Series'>\n",
      "<class 'pandas.core.series.Series'>\n",
      "<class 'pandas.core.series.Series'>\n"
     ]
    }
   ],
   "source": [
    "# check the data type of iris_data\n",
    "print(type(pima_data.glucose))  # note it is showing as pandas series that is nothing but numpy arrays.\n",
    "print(type(pima_data.bmi))\n",
    "print(type(pima_data.dtypes))"
   ]
  },
  {
   "cell_type": "markdown",
   "metadata": {},
   "source": [
    "### Machine Learning Models using Scikit Learn\n",
    "\n",
    "- K-Nearest Neighbour classification Model\n",
    "- steps in sckit-learn for model training and prediction\n",
    "\n"
   ]
  },
  {
   "cell_type": "code",
   "execution_count": 62,
   "metadata": {
    "collapsed": true
   },
   "outputs": [],
   "source": [
    "# seperate features x and resopnse y\n",
    "x = pima_data[['pregnant', 'glucose', 'bp', 'skin', 'insulin', 'bmi', 'pedigree', 'age']]\n",
    "y = pima_data['diabetes']"
   ]
  },
  {
   "cell_type": "code",
   "execution_count": 63,
   "metadata": {},
   "outputs": [
    {
     "data": {
      "text/plain": [
       "(768,)"
      ]
     },
     "execution_count": 63,
     "metadata": {},
     "output_type": "execute_result"
    }
   ],
   "source": [
    "y.shape  # showing (150,) Response is 1-dim array for scikit learn modeling"
   ]
  },
  {
   "cell_type": "code",
   "execution_count": 64,
   "metadata": {},
   "outputs": [
    {
     "data": {
      "text/html": [
       "<div>\n",
       "<table border=\"1\" class=\"dataframe\">\n",
       "  <thead>\n",
       "    <tr style=\"text-align: right;\">\n",
       "      <th></th>\n",
       "      <th>pregnant</th>\n",
       "      <th>glucose</th>\n",
       "      <th>bp</th>\n",
       "      <th>skin</th>\n",
       "      <th>insulin</th>\n",
       "      <th>bmi</th>\n",
       "      <th>pedigree</th>\n",
       "      <th>age</th>\n",
       "    </tr>\n",
       "  </thead>\n",
       "  <tbody>\n",
       "    <tr>\n",
       "      <th>0</th>\n",
       "      <td>6</td>\n",
       "      <td>148</td>\n",
       "      <td>72</td>\n",
       "      <td>35</td>\n",
       "      <td>0</td>\n",
       "      <td>33.6</td>\n",
       "      <td>0.627</td>\n",
       "      <td>50</td>\n",
       "    </tr>\n",
       "    <tr>\n",
       "      <th>1</th>\n",
       "      <td>1</td>\n",
       "      <td>85</td>\n",
       "      <td>66</td>\n",
       "      <td>29</td>\n",
       "      <td>0</td>\n",
       "      <td>26.6</td>\n",
       "      <td>0.351</td>\n",
       "      <td>31</td>\n",
       "    </tr>\n",
       "    <tr>\n",
       "      <th>2</th>\n",
       "      <td>8</td>\n",
       "      <td>183</td>\n",
       "      <td>64</td>\n",
       "      <td>0</td>\n",
       "      <td>0</td>\n",
       "      <td>23.3</td>\n",
       "      <td>0.672</td>\n",
       "      <td>32</td>\n",
       "    </tr>\n",
       "    <tr>\n",
       "      <th>3</th>\n",
       "      <td>1</td>\n",
       "      <td>89</td>\n",
       "      <td>66</td>\n",
       "      <td>23</td>\n",
       "      <td>94</td>\n",
       "      <td>28.1</td>\n",
       "      <td>0.167</td>\n",
       "      <td>21</td>\n",
       "    </tr>\n",
       "    <tr>\n",
       "      <th>4</th>\n",
       "      <td>0</td>\n",
       "      <td>137</td>\n",
       "      <td>40</td>\n",
       "      <td>35</td>\n",
       "      <td>168</td>\n",
       "      <td>43.1</td>\n",
       "      <td>2.288</td>\n",
       "      <td>33</td>\n",
       "    </tr>\n",
       "  </tbody>\n",
       "</table>\n",
       "</div>"
      ],
      "text/plain": [
       "   pregnant  glucose  bp  skin  insulin   bmi  pedigree  age\n",
       "0         6      148  72    35        0  33.6     0.627   50\n",
       "1         1       85  66    29        0  26.6     0.351   31\n",
       "2         8      183  64     0        0  23.3     0.672   32\n",
       "3         1       89  66    23       94  28.1     0.167   21\n",
       "4         0      137  40    35      168  43.1     2.288   33"
      ]
     },
     "execution_count": 64,
     "metadata": {},
     "output_type": "execute_result"
    }
   ],
   "source": [
    "x.head()"
   ]
  },
  {
   "cell_type": "code",
   "execution_count": 65,
   "metadata": {},
   "outputs": [
    {
     "data": {
      "text/plain": [
       "0    1\n",
       "1    0\n",
       "2    1\n",
       "3    0\n",
       "4    1\n",
       "Name: diabetes, dtype: int64"
      ]
     },
     "execution_count": 65,
     "metadata": {},
     "output_type": "execute_result"
    }
   ],
   "source": [
    "y.head()"
   ]
  },
  {
   "cell_type": "markdown",
   "metadata": {},
   "source": [
    "#### Scikit 6 steps process to build the predictibe model\n"
   ]
  },
  {
   "cell_type": "code",
   "execution_count": 66,
   "metadata": {
    "collapsed": true
   },
   "outputs": [],
   "source": [
    "#1: Import the model class that is gong to be used\n",
    "\n",
    "# we are gong to use KNN Modeling\n",
    "from sklearn.neighbors import KNeighborsClassifier"
   ]
  },
  {
   "cell_type": "code",
   "execution_count": 67,
   "metadata": {
    "collapsed": true
   },
   "outputs": [],
   "source": [
    "#2: Create the instance of the Model Estimator ( instantiate the model)\n",
    "knn = KNeighborsClassifier()"
   ]
  },
  {
   "cell_type": "code",
   "execution_count": 68,
   "metadata": {},
   "outputs": [
    {
     "name": "stdout",
     "output_type": "stream",
     "text": [
      "KNeighborsClassifier(algorithm='auto', leaf_size=30, metric='minkowski',\n",
      "           metric_params=None, n_jobs=1, n_neighbors=5, p=2,\n",
      "           weights='uniform')\n"
     ]
    }
   ],
   "source": [
    "print(knn)  # all the default parameters got set, we can speficify our own differrent parameters "
   ]
  },
  {
   "cell_type": "code",
   "execution_count": 69,
   "metadata": {
    "collapsed": true
   },
   "outputs": [],
   "source": [
    "#3: split the whole data into training and testing data\n",
    "from sklearn.model_selection import train_test_split\n",
    "\n",
    "# split train and test data\n",
    "x_train, x_test, y_train, y_test = train_test_split(x, y, random_state=1 )"
   ]
  },
  {
   "cell_type": "code",
   "execution_count": 70,
   "metadata": {},
   "outputs": [],
   "source": [
    "#4:  train the model based on training data \n",
    "knn_fit = knn.fit(x_train,y_train)"
   ]
  },
  {
   "cell_type": "code",
   "execution_count": 71,
   "metadata": {},
   "outputs": [],
   "source": [
    "#5: make predictions on the test data\n",
    "y_pred = knn.predict(x_test)"
   ]
  },
  {
   "cell_type": "code",
   "execution_count": 20,
   "metadata": {},
   "outputs": [
    {
     "data": {
      "text/plain": [
       "array([1, 0, 1, 0, 0, 0, 0, 1, 0, 1, 0, 0, 1, 1, 0, 1, 0, 0, 0, 0, 1, 0, 1,\n",
       "       1, 0, 1, 0, 1, 0, 1, 1, 0, 0, 0, 0, 1, 0, 0, 0, 1, 0, 0, 0, 0, 0, 0,\n",
       "       1, 1, 0, 0, 0, 1, 1, 0, 1, 0, 1, 0, 0, 0, 1, 0, 1, 0, 1, 0, 0, 1, 1,\n",
       "       1, 1, 1, 0, 0, 1, 0, 1, 1, 0, 1, 0, 0, 0, 1, 0, 1, 0, 0, 0, 0, 0, 0,\n",
       "       0, 0, 1, 0, 1, 0, 1, 0, 0, 1, 1, 0, 0, 0, 1, 1, 0, 0, 1, 0, 1, 0, 0,\n",
       "       0, 0, 0, 0, 0, 0, 0, 0, 1, 0, 0, 0, 0, 0, 0, 1, 0, 0, 1, 0, 0, 0, 1,\n",
       "       1, 1, 1, 0, 0, 1, 1, 1, 0, 1, 0, 0, 0, 1, 1, 0, 1, 1, 0, 0, 0, 0, 0,\n",
       "       1, 0, 0, 1, 0, 0, 1, 1, 0, 1, 0, 0, 0, 1, 0, 1, 0, 0, 0, 1, 1, 0, 1,\n",
       "       0, 0, 0, 0, 1, 0, 0, 0], dtype=int64)"
      ]
     },
     "execution_count": 20,
     "metadata": {},
     "output_type": "execute_result"
    }
   ],
   "source": [
    "y_pred"
   ]
  },
  {
   "cell_type": "code",
   "execution_count": 73,
   "metadata": {},
   "outputs": [
    {
     "data": {
      "text/html": [
       "<div>\n",
       "<table border=\"1\" class=\"dataframe\">\n",
       "  <thead>\n",
       "    <tr style=\"text-align: right;\">\n",
       "      <th></th>\n",
       "      <th>Class_actual</th>\n",
       "      <th>Class_predicted</th>\n",
       "    </tr>\n",
       "  </thead>\n",
       "  <tbody>\n",
       "    <tr>\n",
       "      <th>285</th>\n",
       "      <td>0</td>\n",
       "      <td>1</td>\n",
       "    </tr>\n",
       "    <tr>\n",
       "      <th>101</th>\n",
       "      <td>0</td>\n",
       "      <td>1</td>\n",
       "    </tr>\n",
       "    <tr>\n",
       "      <th>581</th>\n",
       "      <td>0</td>\n",
       "      <td>0</td>\n",
       "    </tr>\n",
       "    <tr>\n",
       "      <th>352</th>\n",
       "      <td>0</td>\n",
       "      <td>0</td>\n",
       "    </tr>\n",
       "    <tr>\n",
       "      <th>726</th>\n",
       "      <td>0</td>\n",
       "      <td>1</td>\n",
       "    </tr>\n",
       "    <tr>\n",
       "      <th>472</th>\n",
       "      <td>0</td>\n",
       "      <td>0</td>\n",
       "    </tr>\n",
       "    <tr>\n",
       "      <th>233</th>\n",
       "      <td>0</td>\n",
       "      <td>1</td>\n",
       "    </tr>\n",
       "    <tr>\n",
       "      <th>385</th>\n",
       "      <td>0</td>\n",
       "      <td>0</td>\n",
       "    </tr>\n",
       "    <tr>\n",
       "      <th>556</th>\n",
       "      <td>0</td>\n",
       "      <td>0</td>\n",
       "    </tr>\n",
       "    <tr>\n",
       "      <th>59</th>\n",
       "      <td>0</td>\n",
       "      <td>0</td>\n",
       "    </tr>\n",
       "    <tr>\n",
       "      <th>756</th>\n",
       "      <td>0</td>\n",
       "      <td>0</td>\n",
       "    </tr>\n",
       "    <tr>\n",
       "      <th>341</th>\n",
       "      <td>0</td>\n",
       "      <td>0</td>\n",
       "    </tr>\n",
       "    <tr>\n",
       "      <th>445</th>\n",
       "      <td>1</td>\n",
       "      <td>1</td>\n",
       "    </tr>\n",
       "    <tr>\n",
       "      <th>614</th>\n",
       "      <td>1</td>\n",
       "      <td>1</td>\n",
       "    </tr>\n",
       "    <tr>\n",
       "      <th>371</th>\n",
       "      <td>0</td>\n",
       "      <td>0</td>\n",
       "    </tr>\n",
       "    <tr>\n",
       "      <th>355</th>\n",
       "      <td>1</td>\n",
       "      <td>1</td>\n",
       "    </tr>\n",
       "    <tr>\n",
       "      <th>19</th>\n",
       "      <td>1</td>\n",
       "      <td>0</td>\n",
       "    </tr>\n",
       "    <tr>\n",
       "      <th>711</th>\n",
       "      <td>0</td>\n",
       "      <td>0</td>\n",
       "    </tr>\n",
       "    <tr>\n",
       "      <th>430</th>\n",
       "      <td>0</td>\n",
       "      <td>0</td>\n",
       "    </tr>\n",
       "    <tr>\n",
       "      <th>117</th>\n",
       "      <td>0</td>\n",
       "      <td>0</td>\n",
       "    </tr>\n",
       "  </tbody>\n",
       "</table>\n",
       "</div>"
      ],
      "text/plain": [
       "     Class_actual  Class_predicted\n",
       "285             0                1\n",
       "101             0                1\n",
       "581             0                0\n",
       "352             0                0\n",
       "726             0                1\n",
       "472             0                0\n",
       "233             0                1\n",
       "385             0                0\n",
       "556             0                0\n",
       "59              0                0\n",
       "756             0                0\n",
       "341             0                0\n",
       "445             1                1\n",
       "614             1                1\n",
       "371             0                0\n",
       "355             1                1\n",
       "19              1                0\n",
       "711             0                0\n",
       "430             0                0\n",
       "117             0                0"
      ]
     },
     "execution_count": 73,
     "metadata": {},
     "output_type": "execute_result"
    }
   ],
   "source": [
    "comp_df = pd.DataFrame()\n",
    "comp_df['Class_actual'] = y_test\n",
    "comp_df['Class_predicted'] = y_pred\n",
    "#comp_df[comp_df.Class_actual != comp_df.Class_predicted]\n",
    "comp_df.head(20)"
   ]
  },
  {
   "cell_type": "code",
   "execution_count": 72,
   "metadata": {},
   "outputs": [
    {
     "name": "stdout",
     "output_type": "stream",
     "text": [
      "0.744791666667\n"
     ]
    }
   ],
   "source": [
    "#6: Compare the predictied response(y_pred) vs actual response(y_test)\n",
    "from sklearn import metrics\n",
    "print(metrics.accuracy_score(y_test, y_pred))"
   ]
  },
  {
   "cell_type": "code",
   "execution_count": 74,
   "metadata": {},
   "outputs": [
    {
     "name": "stdout",
     "output_type": "stream",
     "text": [
      "['0.76', '0.72', '0.74', '0.73', '0.74', '0.76', '0.77', '0.77', '0.76', '0.76', '0.76', '0.77', '0.79', '0.78', '0.78', '0.79', '0.79', '0.77', '0.79', '0.78', '0.78', '0.78', '0.77', '0.77', '0.77']\n"
     ]
    }
   ],
   "source": [
    "# Try with differrent values of K=1 to K=25 and record the testing accuracy\n",
    "knn_range = list(range(1,26))\n",
    "scores = []\n",
    "\n",
    "for k in knn_range:\n",
    "    knn = KNeighborsClassifier(n_neighbors = k)\n",
    "    knn.fit(x_train, y_train)\n",
    "    y_pred = knn.predict(x_test)\n",
    "#    scores.append(metrics.accuracy_score(y_test, y_pred))\n",
    "    scores.append(format(metrics.accuracy_score(y_test, y_pred), '.2f'))\n",
    "\n",
    "print(scores)"
   ]
  },
  {
   "cell_type": "code",
   "execution_count": 75,
   "metadata": {},
   "outputs": [
    {
     "data": {
      "text/plain": [
       "<matplotlib.text.Text at 0x51311b3a58>"
      ]
     },
     "execution_count": 75,
     "metadata": {},
     "output_type": "execute_result"
    },
    {
     "data": {
      "image/png": "[encoded data removed]",
      "text/plain": [
       "<matplotlib.figure.Figure at 0x512fcaa9b0>"
      ]
     },
     "metadata": {},
     "output_type": "display_data"
    }
   ],
   "source": [
    "# plot the accuracy for diff K values\n",
    "import matplotlib.pyplot as plt\n",
    "\n",
    "# for allowing the plot to appear within the notebook\n",
    "%matplotlib inline\n",
    "\n",
    "plt.plot(knn_range, scores)\n",
    "plt.xlabel('K values for knn')\n",
    "plt.ylabel('testing accuracy')  # K=14 showing 79% accuracy"
   ]
  },
  {
   "cell_type": "markdown",
   "metadata": {},
   "source": [
    "- as Model complexity increases, Training accuracy increses, that could lead to overfitting that will lead to low testing accuracy\n",
    "- that could give very high-variance-estimate of out-of-sample accuracy\n",
    "- K-fold cross validation overcome this limiation"
   ]
  },
  {
   "cell_type": "code",
   "execution_count": 26,
   "metadata": {},
   "outputs": [
    {
     "name": "stdout",
     "output_type": "stream",
     "text": [
      "0.78125\n"
     ]
    }
   ],
   "source": [
    "#from sklearn.model_selection import cross_val_score\n",
    "\n",
    "# Knn Model with K=14, 10 fold cross validation\n",
    "knn = KNeighborsClassifier(n_neighbors=14)\n",
    "knn.fit(x_train, y_train)\n",
    "\n",
    "from sklearn import metrics\n",
    "y_pred = knn.predict(x_test)\n",
    "print(metrics.accuracy_score(y_test, y_pred))\n"
   ]
  },
  {
   "cell_type": "code",
   "execution_count": 76,
   "metadata": {},
   "outputs": [
    {
     "data": {
      "text/plain": [
       "GridSearchCV(cv=5, error_score='raise',\n",
       "       estimator=KNeighborsClassifier(algorithm='auto', leaf_size=30, metric='minkowski',\n",
       "           metric_params=None, n_jobs=1, n_neighbors=5, p=2,\n",
       "           weights='uniform'),\n",
       "       fit_params={}, iid=True, n_jobs=1,\n",
       "       param_grid={'n_neighbors': [1, 2, 3, 4, 5, 6, 7, 8, 9, 10, 11, 12, 13, 14, 15, 16, 17, 18, 19, 20, 21, 22, 23, 24, 25, 26, 27, 28, 29, 30]},\n",
       "       pre_dispatch='2*n_jobs', refit=True, return_train_score=True,\n",
       "       scoring='accuracy', verbose=0)"
      ]
     },
     "execution_count": 76,
     "metadata": {},
     "output_type": "execute_result"
    }
   ],
   "source": [
    "# KNN Model tuning Gridsearch\n",
    "knn = KNeighborsClassifier()\n",
    "\n",
    "param_grid = { \"n_neighbors\" : [1,2,3,4,5,6,7,8,9,10,11,12,13,14,15,16,17,18,19,20,21,22,23,24,25,26,27,28,29,30] \n",
    "                }\n",
    "\n",
    "optimized_knn = GridSearchCV(knn, param_grid, scoring='accuracy', cv=5 )\n",
    "optimized_knn.fit(x_train, y_train)"
   ]
  },
  {
   "cell_type": "code",
   "execution_count": 77,
   "metadata": {},
   "outputs": [
    {
     "data": {
      "text/plain": [
       "KNeighborsClassifier(algorithm='auto', leaf_size=30, metric='minkowski',\n",
       "           metric_params=None, n_jobs=1, n_neighbors=22, p=2,\n",
       "           weights='uniform')"
      ]
     },
     "execution_count": 77,
     "metadata": {},
     "output_type": "execute_result"
    }
   ],
   "source": [
    "optimized_knn.best_estimator_"
   ]
  },
  {
   "cell_type": "code",
   "execution_count": 78,
   "metadata": {},
   "outputs": [
    {
     "data": {
      "text/plain": [
       "0.73958333333333337"
      ]
     },
     "execution_count": 78,
     "metadata": {},
     "output_type": "execute_result"
    }
   ],
   "source": [
    "optimized_knn.best_score_"
   ]
  },
  {
   "cell_type": "code",
   "execution_count": 48,
   "metadata": {},
   "outputs": [
    {
     "name": "stderr",
     "output_type": "stream",
     "text": [
      "C:\\Users\\jp\\Anaconda3\\lib\\site-packages\\sklearn\\model_selection\\_search.py:667: DeprecationWarning: The grid_scores_ attribute was deprecated in version 0.18 in favor of the more elaborate cv_results_ attribute. The grid_scores_ attribute will not be available from 0.20\n",
      "  DeprecationWarning)\n"
     ]
    },
    {
     "data": {
      "text/plain": [
       "[mean: 0.63368, std: 0.05922, params: {'n_neighbors': 1},\n",
       " mean: 0.70486, std: 0.01820, params: {'n_neighbors': 2},\n",
       " mean: 0.69792, std: 0.03994, params: {'n_neighbors': 3},\n",
       " mean: 0.70312, std: 0.01822, params: {'n_neighbors': 4},\n",
       " mean: 0.69965, std: 0.02298, params: {'n_neighbors': 5},\n",
       " mean: 0.70486, std: 0.02095, params: {'n_neighbors': 6},\n",
       " mean: 0.69792, std: 0.01921, params: {'n_neighbors': 7},\n",
       " mean: 0.71875, std: 0.02698, params: {'n_neighbors': 8},\n",
       " mean: 0.70139, std: 0.02964, params: {'n_neighbors': 9},\n",
       " mean: 0.71528, std: 0.02992, params: {'n_neighbors': 10},\n",
       " mean: 0.71701, std: 0.03920, params: {'n_neighbors': 11},\n",
       " mean: 0.72917, std: 0.02504, params: {'n_neighbors': 12},\n",
       " mean: 0.73438, std: 0.01659, params: {'n_neighbors': 13},\n",
       " mean: 0.73785, std: 0.02641, params: {'n_neighbors': 14},\n",
       " mean: 0.73090, std: 0.01678, params: {'n_neighbors': 15},\n",
       " mean: 0.72222, std: 0.02971, params: {'n_neighbors': 16},\n",
       " mean: 0.71875, std: 0.02938, params: {'n_neighbors': 17},\n",
       " mean: 0.72396, std: 0.04103, params: {'n_neighbors': 18},\n",
       " mean: 0.71528, std: 0.03568, params: {'n_neighbors': 19},\n",
       " mean: 0.72049, std: 0.02889, params: {'n_neighbors': 20},\n",
       " mean: 0.72049, std: 0.03529, params: {'n_neighbors': 21},\n",
       " mean: 0.73958, std: 0.03037, params: {'n_neighbors': 22},\n",
       " mean: 0.73611, std: 0.03808, params: {'n_neighbors': 23},\n",
       " mean: 0.72917, std: 0.02920, params: {'n_neighbors': 24},\n",
       " mean: 0.73611, std: 0.04468, params: {'n_neighbors': 25},\n",
       " mean: 0.73438, std: 0.04248, params: {'n_neighbors': 26},\n",
       " mean: 0.73611, std: 0.04483, params: {'n_neighbors': 27},\n",
       " mean: 0.72917, std: 0.02920, params: {'n_neighbors': 28},\n",
       " mean: 0.72049, std: 0.03824, params: {'n_neighbors': 29},\n",
       " mean: 0.71701, std: 0.03584, params: {'n_neighbors': 30}]"
      ]
     },
     "execution_count": 48,
     "metadata": {},
     "output_type": "execute_result"
    }
   ],
   "source": [
    "optimized_knn.grid_scores_"
   ]
  },
  {
   "cell_type": "code",
   "execution_count": 79,
   "metadata": {},
   "outputs": [
    {
     "name": "stdout",
     "output_type": "stream",
     "text": [
      "0.78125\n"
     ]
    }
   ],
   "source": [
    "# Knn Model with K=22, 10 fold - Final model validation\n",
    "knn = KNeighborsClassifier(n_neighbors=22)\n",
    "knn.fit(x_train, y_train)\n",
    "\n",
    "from sklearn import metrics\n",
    "y_pred = knn.predict(x_test)\n",
    "print(metrics.accuracy_score(y_test, y_pred))"
   ]
  },
  {
   "cell_type": "code",
   "execution_count": 80,
   "metadata": {},
   "outputs": [
    {
     "data": {
      "text/plain": [
       "0    123\n",
       "1     69\n",
       "Name: diabetes, dtype: int64"
      ]
     },
     "execution_count": 80,
     "metadata": {},
     "output_type": "execute_result"
    }
   ],
   "source": [
    "# distribution of response class in test data\n",
    "y_test.value_counts()"
   ]
  },
  {
   "cell_type": "code",
   "execution_count": 81,
   "metadata": {},
   "outputs": [
    {
     "data": {
      "text/plain": [
       "0    0.640625\n",
       "1    0.359375\n",
       "Name: diabetes, dtype: float64"
      ]
     },
     "execution_count": 81,
     "metadata": {},
     "output_type": "execute_result"
    }
   ],
   "source": [
    "# praportion of response class in test data\n",
    "y_test.value_counts().head(2)/ len(y_test)"
   ]
  },
  {
   "cell_type": "markdown",
   "metadata": {},
   "source": [
    "- classification accuracy is the easiest way to understand the classification accuracy\n",
    "- but it does not tell the complete details about classification erros\n",
    "\n",
    "##### Confusion Metrics : describe the performance of the Model"
   ]
  },
  {
   "cell_type": "code",
   "execution_count": 35,
   "metadata": {
    "collapsed": true
   },
   "outputs": [],
   "source": [
    "from sklearn.metrics import classification_report,confusion_matrix, accuracy_score"
   ]
  },
  {
   "cell_type": "code",
   "execution_count": 36,
   "metadata": {},
   "outputs": [
    {
     "name": "stdout",
     "output_type": "stream",
     "text": [
      "[[115   8]\n",
      " [ 34  35]]\n"
     ]
    }
   ],
   "source": [
    "print(confusion_matrix( y_test, y_pred))"
   ]
  },
  {
   "cell_type": "markdown",
   "metadata": {},
   "source": [
    "- Basic terminology\n",
    "    - True Positives (TP): correctly predicted that they do have diabetes\n",
    "    - True Negatives (TN): correctly predicted that they don't have diabetes\n",
    "    - False Positives (FP): incorrectly predicted that they do have diabetes (a \"Type I error\")\n",
    "    - False Negatives (FN): incorrectly predicted that they don't have diabetes (a \"Type II error\")"
   ]
  },
  {
   "cell_type": "code",
   "execution_count": 82,
   "metadata": {},
   "outputs": [
    {
     "name": "stdout",
     "output_type": "stream",
     "text": [
      "TN -  115\n",
      "FP -  8\n",
      "FN -  34\n",
      "TP -  35\n"
     ]
    }
   ],
   "source": [
    "# save confusion matrix \n",
    "confusion = metrics.confusion_matrix(y_test, y_pred)\n",
    "TN = confusion[0, 0]\n",
    "FP = confusion[0, 1]\n",
    "FN = confusion[1, 0]\n",
    "TP = confusion[1, 1]\n",
    "\n",
    "print(\"TN - \", TN)\n",
    "print(\"FP - \", FP)\n",
    "print(\"FN - \", FN)\n",
    "print(\"TP - \", TP)"
   ]
  },
  {
   "cell_type": "markdown",
   "metadata": {},
   "source": [
    "- Confusion matrix give us the complete picture how Classifier is performing\n",
    "- Which Metrics should be used will depend on the business objective\n",
    "\n",
    "- Example:\n",
    "\n",
    "- Fraud txn detector (positive class is 'fraud'):\n",
    "    - FP :  predicting as 'fraud' for 'non-fraud' txn\n",
    "    - FN :  predicting as 'non-fraud' for fraud txn \n",
    "    \n",
    "    - in this case FP(normal txn that is flagged as possbile fraud)  would be more acceptable than FN (fradulent txn is flagged       as normal txn):\n",
    "    - in this case focus should be more reducing the FN and increasing the TP : optimize the sensitivity for higher %\n",
    "    \n",
    " - Spam Filter ( positive class is 'spam'):  in this case focus should be more reducing the FP and increasing the TN "
   ]
  },
  {
   "cell_type": "code",
   "execution_count": 84,
   "metadata": {},
   "outputs": [
    {
     "name": "stdout",
     "output_type": "stream",
     "text": [
      "0.78125\n",
      "0.78125\n"
     ]
    }
   ],
   "source": [
    "# Classification Accuracy : \n",
    "\n",
    "print((TP + TN) / float(TP + TN + FP + FN))\n",
    "print(metrics.accuracy_score(y_test, y_pred))"
   ]
  },
  {
   "cell_type": "code",
   "execution_count": 85,
   "metadata": {},
   "outputs": [
    {
     "name": "stdout",
     "output_type": "stream",
     "text": [
      "0.507246376812\n",
      "0.507246376812\n"
     ]
    }
   ],
   "source": [
    "# Sensitivity(True positive Rate) : when the actual value is positive, how often the prediction correct \n",
    "# Sensitivity = TP / (TP + FN)\n",
    "\n",
    "print(TP / (TP + FN))\n",
    "print(metrics.recall_score(y_test, y_pred))"
   ]
  },
  {
   "cell_type": "code",
   "execution_count": 40,
   "metadata": {},
   "outputs": [
    {
     "name": "stdout",
     "output_type": "stream",
     "text": [
      "0.813953488372\n",
      "0.813953488372\n"
     ]
    }
   ],
   "source": [
    "# Precision: When a positive value is predicted, how often is the prediction correct\n",
    "#    How precise is the classifier when predicting positive instances\n",
    "\n",
    "print(TP / (TP + FP))\n",
    "print(metrics.precision_score(y_test, y_pred))"
   ]
  },
  {
   "cell_type": "code",
   "execution_count": 41,
   "metadata": {},
   "outputs": [
    {
     "name": "stdout",
     "output_type": "stream",
     "text": [
      "0.0650406504065\n"
     ]
    }
   ],
   "source": [
    "# False Positive Rate : when actual value is negative, how often the prediction incorrect\n",
    "print(FP/(FP + TN))"
   ]
  },
  {
   "cell_type": "code",
   "execution_count": 42,
   "metadata": {},
   "outputs": [
    {
     "name": "stdout",
     "output_type": "stream",
     "text": [
      "0.934959349593\n"
     ]
    }
   ],
   "source": [
    "# Specificity( 1 - FPR)  : when the actual value is negative, how often the prediction correct \n",
    "print( TN/ (TN + FP) )"
   ]
  },
  {
   "cell_type": "markdown",
   "metadata": {},
   "source": [
    "### ROC Curver and Area under Curve (AUC) : \n",
    "- provide the sensitivity and specificity values for differrent threshold values without actually changing the threshold.\n",
    "- ROC will help to choosing the threshold that balance the sensitivity and specificity"
   ]
  },
  {
   "cell_type": "code",
   "execution_count": 86,
   "metadata": {},
   "outputs": [
    {
     "name": "stdout",
     "output_type": "stream",
     "text": [
      "0.721102863203\n"
     ]
    }
   ],
   "source": [
    "print(metrics.roc_auc_score(y_test, y_pred))"
   ]
  },
  {
   "cell_type": "code",
   "execution_count": 87,
   "metadata": {},
   "outputs": [
    {
     "data": {
      "text/plain": [
       "array([[ 0.40909091,  0.59090909],\n",
       "       [ 0.59090909,  0.40909091],\n",
       "       [ 0.81818182,  0.18181818],\n",
       "       [ 0.81818182,  0.18181818],\n",
       "       [ 0.54545455,  0.45454545],\n",
       "       [ 0.72727273,  0.27272727],\n",
       "       [ 0.5       ,  0.5       ],\n",
       "       [ 0.90909091,  0.09090909],\n",
       "       [ 0.81818182,  0.18181818],\n",
       "       [ 0.68181818,  0.31818182],\n",
       "       [ 0.59090909,  0.40909091],\n",
       "       [ 0.86363636,  0.13636364],\n",
       "       [ 0.31818182,  0.68181818],\n",
       "       [ 0.36363636,  0.63636364],\n",
       "       [ 0.90909091,  0.09090909],\n",
       "       [ 0.40909091,  0.59090909],\n",
       "       [ 0.81818182,  0.18181818],\n",
       "       [ 0.63636364,  0.36363636],\n",
       "       [ 0.59090909,  0.40909091],\n",
       "       [ 1.        ,  0.        ],\n",
       "       [ 0.59090909,  0.40909091],\n",
       "       [ 0.95454545,  0.04545455],\n",
       "       [ 0.36363636,  0.63636364],\n",
       "       [ 0.59090909,  0.40909091],\n",
       "       [ 0.95454545,  0.04545455],\n",
       "       [ 0.63636364,  0.36363636],\n",
       "       [ 0.54545455,  0.45454545],\n",
       "       [ 0.27272727,  0.72727273],\n",
       "       [ 0.86363636,  0.13636364],\n",
       "       [ 0.59090909,  0.40909091],\n",
       "       [ 0.63636364,  0.36363636],\n",
       "       [ 0.63636364,  0.36363636],\n",
       "       [ 0.95454545,  0.04545455],\n",
       "       [ 0.36363636,  0.63636364],\n",
       "       [ 0.77272727,  0.22727273],\n",
       "       [ 0.40909091,  0.59090909],\n",
       "       [ 0.95454545,  0.04545455],\n",
       "       [ 0.72727273,  0.27272727],\n",
       "       [ 0.86363636,  0.13636364],\n",
       "       [ 0.59090909,  0.40909091],\n",
       "       [ 0.63636364,  0.36363636],\n",
       "       [ 0.86363636,  0.13636364],\n",
       "       [ 0.95454545,  0.04545455],\n",
       "       [ 0.77272727,  0.22727273],\n",
       "       [ 0.95454545,  0.04545455],\n",
       "       [ 1.        ,  0.        ],\n",
       "       [ 0.40909091,  0.59090909],\n",
       "       [ 0.18181818,  0.81818182],\n",
       "       [ 0.68181818,  0.31818182],\n",
       "       [ 0.90909091,  0.09090909],\n",
       "       [ 0.81818182,  0.18181818],\n",
       "       [ 0.90909091,  0.09090909],\n",
       "       [ 0.36363636,  0.63636364],\n",
       "       [ 0.95454545,  0.04545455],\n",
       "       [ 0.54545455,  0.45454545],\n",
       "       [ 0.95454545,  0.04545455],\n",
       "       [ 0.40909091,  0.59090909],\n",
       "       [ 0.63636364,  0.36363636],\n",
       "       [ 0.77272727,  0.22727273],\n",
       "       [ 0.81818182,  0.18181818],\n",
       "       [ 0.40909091,  0.59090909],\n",
       "       [ 0.77272727,  0.22727273],\n",
       "       [ 0.40909091,  0.59090909],\n",
       "       [ 0.54545455,  0.45454545],\n",
       "       [ 0.59090909,  0.40909091],\n",
       "       [ 0.95454545,  0.04545455],\n",
       "       [ 0.95454545,  0.04545455],\n",
       "       [ 0.40909091,  0.59090909],\n",
       "       [ 0.63636364,  0.36363636],\n",
       "       [ 0.40909091,  0.59090909],\n",
       "       [ 0.36363636,  0.63636364],\n",
       "       [ 0.40909091,  0.59090909],\n",
       "       [ 0.5       ,  0.5       ],\n",
       "       [ 1.        ,  0.        ],\n",
       "       [ 0.40909091,  0.59090909],\n",
       "       [ 0.77272727,  0.22727273],\n",
       "       [ 0.40909091,  0.59090909],\n",
       "       [ 0.59090909,  0.40909091],\n",
       "       [ 0.63636364,  0.36363636],\n",
       "       [ 0.40909091,  0.59090909],\n",
       "       [ 0.59090909,  0.40909091],\n",
       "       [ 0.77272727,  0.22727273],\n",
       "       [ 0.5       ,  0.5       ],\n",
       "       [ 0.68181818,  0.31818182],\n",
       "       [ 0.95454545,  0.04545455],\n",
       "       [ 0.18181818,  0.81818182],\n",
       "       [ 0.5       ,  0.5       ],\n",
       "       [ 0.95454545,  0.04545455],\n",
       "       [ 0.5       ,  0.5       ],\n",
       "       [ 0.72727273,  0.27272727],\n",
       "       [ 0.45454545,  0.54545455],\n",
       "       [ 0.95454545,  0.04545455],\n",
       "       [ 0.86363636,  0.13636364],\n",
       "       [ 0.86363636,  0.13636364],\n",
       "       [ 0.31818182,  0.68181818],\n",
       "       [ 0.59090909,  0.40909091],\n",
       "       [ 0.63636364,  0.36363636],\n",
       "       [ 0.77272727,  0.22727273],\n",
       "       [ 0.5       ,  0.5       ],\n",
       "       [ 0.59090909,  0.40909091],\n",
       "       [ 0.86363636,  0.13636364],\n",
       "       [ 0.63636364,  0.36363636],\n",
       "       [ 0.36363636,  0.63636364],\n",
       "       [ 0.59090909,  0.40909091],\n",
       "       [ 0.81818182,  0.18181818],\n",
       "       [ 0.77272727,  0.22727273],\n",
       "       [ 0.54545455,  0.45454545],\n",
       "       [ 0.5       ,  0.5       ],\n",
       "       [ 0.77272727,  0.22727273],\n",
       "       [ 0.59090909,  0.40909091],\n",
       "       [ 0.40909091,  0.59090909],\n",
       "       [ 0.90909091,  0.09090909],\n",
       "       [ 0.5       ,  0.5       ],\n",
       "       [ 0.54545455,  0.45454545],\n",
       "       [ 0.95454545,  0.04545455],\n",
       "       [ 1.        ,  0.        ],\n",
       "       [ 0.86363636,  0.13636364],\n",
       "       [ 0.40909091,  0.59090909],\n",
       "       [ 0.68181818,  0.31818182],\n",
       "       [ 0.63636364,  0.36363636],\n",
       "       [ 1.        ,  0.        ],\n",
       "       [ 0.27272727,  0.72727273],\n",
       "       [ 0.63636364,  0.36363636],\n",
       "       [ 0.81818182,  0.18181818],\n",
       "       [ 0.63636364,  0.36363636],\n",
       "       [ 0.81818182,  0.18181818],\n",
       "       [ 0.86363636,  0.13636364],\n",
       "       [ 0.90909091,  0.09090909],\n",
       "       [ 0.5       ,  0.5       ],\n",
       "       [ 0.5       ,  0.5       ],\n",
       "       [ 0.22727273,  0.77272727],\n",
       "       [ 0.90909091,  0.09090909],\n",
       "       [ 0.45454545,  0.54545455],\n",
       "       [ 0.63636364,  0.36363636],\n",
       "       [ 0.5       ,  0.5       ],\n",
       "       [ 0.86363636,  0.13636364],\n",
       "       [ 0.90909091,  0.09090909],\n",
       "       [ 0.59090909,  0.40909091],\n",
       "       [ 0.95454545,  0.04545455],\n",
       "       [ 0.77272727,  0.22727273],\n",
       "       [ 0.22727273,  0.77272727],\n",
       "       [ 0.95454545,  0.04545455],\n",
       "       [ 0.77272727,  0.22727273],\n",
       "       [ 0.40909091,  0.59090909],\n",
       "       [ 0.54545455,  0.45454545],\n",
       "       [ 0.54545455,  0.45454545],\n",
       "       [ 0.95454545,  0.04545455],\n",
       "       [ 0.86363636,  0.13636364],\n",
       "       [ 0.63636364,  0.36363636],\n",
       "       [ 0.95454545,  0.04545455],\n",
       "       [ 0.54545455,  0.45454545],\n",
       "       [ 0.22727273,  0.77272727],\n",
       "       [ 0.63636364,  0.36363636],\n",
       "       [ 0.63636364,  0.36363636],\n",
       "       [ 0.5       ,  0.5       ],\n",
       "       [ 0.63636364,  0.36363636],\n",
       "       [ 0.77272727,  0.22727273],\n",
       "       [ 0.68181818,  0.31818182],\n",
       "       [ 0.68181818,  0.31818182],\n",
       "       [ 0.68181818,  0.31818182],\n",
       "       [ 0.40909091,  0.59090909],\n",
       "       [ 0.5       ,  0.5       ],\n",
       "       [ 0.81818182,  0.18181818],\n",
       "       [ 0.95454545,  0.04545455],\n",
       "       [ 0.54545455,  0.45454545],\n",
       "       [ 0.90909091,  0.09090909],\n",
       "       [ 0.63636364,  0.36363636],\n",
       "       [ 0.31818182,  0.68181818],\n",
       "       [ 0.31818182,  0.68181818],\n",
       "       [ 0.45454545,  0.54545455],\n",
       "       [ 0.18181818,  0.81818182],\n",
       "       [ 0.31818182,  0.68181818],\n",
       "       [ 0.81818182,  0.18181818],\n",
       "       [ 0.95454545,  0.04545455],\n",
       "       [ 0.45454545,  0.54545455],\n",
       "       [ 0.77272727,  0.22727273],\n",
       "       [ 0.27272727,  0.72727273],\n",
       "       [ 0.86363636,  0.13636364],\n",
       "       [ 0.68181818,  0.31818182],\n",
       "       [ 0.95454545,  0.04545455],\n",
       "       [ 0.68181818,  0.31818182],\n",
       "       [ 0.59090909,  0.40909091],\n",
       "       [ 0.86363636,  0.13636364],\n",
       "       [ 0.27272727,  0.72727273],\n",
       "       [ 0.90909091,  0.09090909],\n",
       "       [ 1.        ,  0.        ],\n",
       "       [ 0.95454545,  0.04545455],\n",
       "       [ 0.40909091,  0.59090909],\n",
       "       [ 0.59090909,  0.40909091],\n",
       "       [ 0.59090909,  0.40909091],\n",
       "       [ 1.        ,  0.        ],\n",
       "       [ 0.95454545,  0.04545455]])"
      ]
     },
     "execution_count": 87,
     "metadata": {},
     "output_type": "execute_result"
    }
   ],
   "source": [
    "y_pred_prob = knn.predict_proba(x_test)\n",
    "y_pred_prob"
   ]
  },
  {
   "cell_type": "code",
   "execution_count": 48,
   "metadata": {},
   "outputs": [
    {
     "data": {
      "text/html": [
       "<div>\n",
       "<table border=\"1\" class=\"dataframe\">\n",
       "  <thead>\n",
       "    <tr style=\"text-align: right;\">\n",
       "      <th></th>\n",
       "      <th>Class_actual</th>\n",
       "      <th>Class_predicted</th>\n",
       "      <th>prob_1</th>\n",
       "    </tr>\n",
       "  </thead>\n",
       "  <tbody>\n",
       "    <tr>\n",
       "      <th>285</th>\n",
       "      <td>0</td>\n",
       "      <td>1</td>\n",
       "      <td>0.590909</td>\n",
       "    </tr>\n",
       "    <tr>\n",
       "      <th>101</th>\n",
       "      <td>0</td>\n",
       "      <td>0</td>\n",
       "      <td>0.409091</td>\n",
       "    </tr>\n",
       "    <tr>\n",
       "      <th>581</th>\n",
       "      <td>0</td>\n",
       "      <td>1</td>\n",
       "      <td>0.181818</td>\n",
       "    </tr>\n",
       "    <tr>\n",
       "      <th>352</th>\n",
       "      <td>0</td>\n",
       "      <td>0</td>\n",
       "      <td>0.181818</td>\n",
       "    </tr>\n",
       "    <tr>\n",
       "      <th>726</th>\n",
       "      <td>0</td>\n",
       "      <td>0</td>\n",
       "      <td>0.454545</td>\n",
       "    </tr>\n",
       "    <tr>\n",
       "      <th>472</th>\n",
       "      <td>0</td>\n",
       "      <td>0</td>\n",
       "      <td>0.272727</td>\n",
       "    </tr>\n",
       "    <tr>\n",
       "      <th>233</th>\n",
       "      <td>0</td>\n",
       "      <td>0</td>\n",
       "      <td>0.500000</td>\n",
       "    </tr>\n",
       "    <tr>\n",
       "      <th>385</th>\n",
       "      <td>0</td>\n",
       "      <td>1</td>\n",
       "      <td>0.090909</td>\n",
       "    </tr>\n",
       "    <tr>\n",
       "      <th>556</th>\n",
       "      <td>0</td>\n",
       "      <td>0</td>\n",
       "      <td>0.181818</td>\n",
       "    </tr>\n",
       "    <tr>\n",
       "      <th>59</th>\n",
       "      <td>0</td>\n",
       "      <td>1</td>\n",
       "      <td>0.318182</td>\n",
       "    </tr>\n",
       "  </tbody>\n",
       "</table>\n",
       "</div>"
      ],
      "text/plain": [
       "     Class_actual  Class_predicted    prob_1\n",
       "285             0                1  0.590909\n",
       "101             0                0  0.409091\n",
       "581             0                1  0.181818\n",
       "352             0                0  0.181818\n",
       "726             0                0  0.454545\n",
       "472             0                0  0.272727\n",
       "233             0                0  0.500000\n",
       "385             0                1  0.090909\n",
       "556             0                0  0.181818\n",
       "59              0                1  0.318182"
      ]
     },
     "execution_count": 48,
     "metadata": {},
     "output_type": "execute_result"
    }
   ],
   "source": [
    "comp_df['prob_1'] = y_pred_prob[:,1]\n",
    "comp_df.head(10)"
   ]
  },
  {
   "cell_type": "code",
   "execution_count": 88,
   "metadata": {},
   "outputs": [
    {
     "data": {
      "image/png": "[encoded data removed]",
      "text/plain": [
       "<matplotlib.figure.Figure at 0x513120c7f0>"
      ]
     },
     "metadata": {},
     "output_type": "display_data"
    }
   ],
   "source": [
    "fpr, tpr, thresholds = metrics.roc_curve(y_test, y_pred_prob[:,1])\n",
    "\n",
    "plt.plot(fpr, tpr)\n",
    "plt.xlim([0.0, 1.0])\n",
    "plt.ylim([0.0, 1.0])\n",
    "plt.rcParams['font.size'] = 18\n",
    "plt.title('ROC curve for classifier')\n",
    "plt.xlabel('False Positive Rate (1 - Specificity)')\n",
    "plt.ylabel('True Positive Rate (Sensitivity)')\n",
    "plt.grid(True)"
   ]
  },
  {
   "cell_type": "markdown",
   "metadata": {},
   "source": [
    "- AUC is the percentage of the ROC plot that is underneath the curve:\n",
    "- AUC is useful as a single number summary of classifier performance.\n",
    "- If you randomly chose one positive and one negative observation, AUC represents the likelihood that your classifier will   \n",
    "   assign a higher predicted probability to the positive observation."
   ]
  },
  {
   "cell_type": "code",
   "execution_count": 50,
   "metadata": {},
   "outputs": [
    {
     "data": {
      "text/html": [
       "<div>\n",
       "<table border=\"1\" class=\"dataframe\">\n",
       "  <thead>\n",
       "    <tr style=\"text-align: right;\">\n",
       "      <th></th>\n",
       "      <th>tpr</th>\n",
       "      <th>fpr</th>\n",
       "      <th>prob</th>\n",
       "    </tr>\n",
       "  </thead>\n",
       "  <tbody>\n",
       "    <tr>\n",
       "      <th>0</th>\n",
       "      <td>0.000000</td>\n",
       "      <td>0.000000</td>\n",
       "      <td>1.818182</td>\n",
       "    </tr>\n",
       "    <tr>\n",
       "      <th>1</th>\n",
       "      <td>0.028986</td>\n",
       "      <td>0.008130</td>\n",
       "      <td>0.818182</td>\n",
       "    </tr>\n",
       "    <tr>\n",
       "      <th>2</th>\n",
       "      <td>0.072464</td>\n",
       "      <td>0.008130</td>\n",
       "      <td>0.772727</td>\n",
       "    </tr>\n",
       "    <tr>\n",
       "      <th>3</th>\n",
       "      <td>0.130435</td>\n",
       "      <td>0.008130</td>\n",
       "      <td>0.727273</td>\n",
       "    </tr>\n",
       "    <tr>\n",
       "      <th>4</th>\n",
       "      <td>0.188406</td>\n",
       "      <td>0.016260</td>\n",
       "      <td>0.681818</td>\n",
       "    </tr>\n",
       "    <tr>\n",
       "      <th>5</th>\n",
       "      <td>0.275362</td>\n",
       "      <td>0.016260</td>\n",
       "      <td>0.636364</td>\n",
       "    </tr>\n",
       "    <tr>\n",
       "      <th>6</th>\n",
       "      <td>0.478261</td>\n",
       "      <td>0.048780</td>\n",
       "      <td>0.590909</td>\n",
       "    </tr>\n",
       "    <tr>\n",
       "      <th>7</th>\n",
       "      <td>0.507246</td>\n",
       "      <td>0.065041</td>\n",
       "      <td>0.545455</td>\n",
       "    </tr>\n",
       "    <tr>\n",
       "      <th>8</th>\n",
       "      <td>0.579710</td>\n",
       "      <td>0.130081</td>\n",
       "      <td>0.500000</td>\n",
       "    </tr>\n",
       "    <tr>\n",
       "      <th>9</th>\n",
       "      <td>0.652174</td>\n",
       "      <td>0.170732</td>\n",
       "      <td>0.454545</td>\n",
       "    </tr>\n",
       "    <tr>\n",
       "      <th>10</th>\n",
       "      <td>0.739130</td>\n",
       "      <td>0.268293</td>\n",
       "      <td>0.409091</td>\n",
       "    </tr>\n",
       "    <tr>\n",
       "      <th>11</th>\n",
       "      <td>0.826087</td>\n",
       "      <td>0.373984</td>\n",
       "      <td>0.363636</td>\n",
       "    </tr>\n",
       "    <tr>\n",
       "      <th>12</th>\n",
       "      <td>0.855072</td>\n",
       "      <td>0.430894</td>\n",
       "      <td>0.318182</td>\n",
       "    </tr>\n",
       "    <tr>\n",
       "      <th>13</th>\n",
       "      <td>0.855072</td>\n",
       "      <td>0.455285</td>\n",
       "      <td>0.272727</td>\n",
       "    </tr>\n",
       "    <tr>\n",
       "      <th>14</th>\n",
       "      <td>0.898551</td>\n",
       "      <td>0.536585</td>\n",
       "      <td>0.227273</td>\n",
       "    </tr>\n",
       "    <tr>\n",
       "      <th>15</th>\n",
       "      <td>0.913043</td>\n",
       "      <td>0.617886</td>\n",
       "      <td>0.181818</td>\n",
       "    </tr>\n",
       "    <tr>\n",
       "      <th>16</th>\n",
       "      <td>0.913043</td>\n",
       "      <td>0.723577</td>\n",
       "      <td>0.136364</td>\n",
       "    </tr>\n",
       "    <tr>\n",
       "      <th>17</th>\n",
       "      <td>0.942029</td>\n",
       "      <td>0.788618</td>\n",
       "      <td>0.090909</td>\n",
       "    </tr>\n",
       "    <tr>\n",
       "      <th>18</th>\n",
       "      <td>1.000000</td>\n",
       "      <td>0.943089</td>\n",
       "      <td>0.045455</td>\n",
       "    </tr>\n",
       "    <tr>\n",
       "      <th>19</th>\n",
       "      <td>1.000000</td>\n",
       "      <td>1.000000</td>\n",
       "      <td>0.000000</td>\n",
       "    </tr>\n",
       "  </tbody>\n",
       "</table>\n",
       "</div>"
      ],
      "text/plain": [
       "         tpr       fpr      prob\n",
       "0   0.000000  0.000000  1.818182\n",
       "1   0.028986  0.008130  0.818182\n",
       "2   0.072464  0.008130  0.772727\n",
       "3   0.130435  0.008130  0.727273\n",
       "4   0.188406  0.016260  0.681818\n",
       "5   0.275362  0.016260  0.636364\n",
       "6   0.478261  0.048780  0.590909\n",
       "7   0.507246  0.065041  0.545455\n",
       "8   0.579710  0.130081  0.500000\n",
       "9   0.652174  0.170732  0.454545\n",
       "10  0.739130  0.268293  0.409091\n",
       "11  0.826087  0.373984  0.363636\n",
       "12  0.855072  0.430894  0.318182\n",
       "13  0.855072  0.455285  0.272727\n",
       "14  0.898551  0.536585  0.227273\n",
       "15  0.913043  0.617886  0.181818\n",
       "16  0.913043  0.723577  0.136364\n",
       "17  0.942029  0.788618  0.090909\n",
       "18  1.000000  0.943089  0.045455\n",
       "19  1.000000  1.000000  0.000000"
      ]
     },
     "execution_count": 50,
     "metadata": {},
     "output_type": "execute_result"
    }
   ],
   "source": [
    "df_threshold = pd.DataFrame()\n",
    "df_threshold['tpr'] = tpr\n",
    "df_threshold['fpr'] = fpr\n",
    "df_threshold['prob'] = thresholds  # probability(1)\n",
    "df_threshold.head(60)"
   ]
  },
  {
   "cell_type": "code",
   "execution_count": 51,
   "metadata": {
    "collapsed": true
   },
   "outputs": [],
   "source": [
    "# AUC suggest the best threshold - tpr=.82, fpr=.27, thresold = .36"
   ]
  },
  {
   "cell_type": "code",
   "execution_count": 52,
   "metadata": {},
   "outputs": [
    {
     "data": {
      "text/html": [
       "<div>\n",
       "<table border=\"1\" class=\"dataframe\">\n",
       "  <thead>\n",
       "    <tr style=\"text-align: right;\">\n",
       "      <th></th>\n",
       "      <th>actual_class</th>\n",
       "      <th>pred_class</th>\n",
       "      <th>prob_1</th>\n",
       "    </tr>\n",
       "  </thead>\n",
       "  <tbody>\n",
       "    <tr>\n",
       "      <th>285</th>\n",
       "      <td>0</td>\n",
       "      <td>1</td>\n",
       "      <td>0.590909</td>\n",
       "    </tr>\n",
       "    <tr>\n",
       "      <th>101</th>\n",
       "      <td>0</td>\n",
       "      <td>0</td>\n",
       "      <td>0.409091</td>\n",
       "    </tr>\n",
       "    <tr>\n",
       "      <th>581</th>\n",
       "      <td>0</td>\n",
       "      <td>0</td>\n",
       "      <td>0.181818</td>\n",
       "    </tr>\n",
       "    <tr>\n",
       "      <th>352</th>\n",
       "      <td>0</td>\n",
       "      <td>0</td>\n",
       "      <td>0.181818</td>\n",
       "    </tr>\n",
       "    <tr>\n",
       "      <th>726</th>\n",
       "      <td>0</td>\n",
       "      <td>0</td>\n",
       "      <td>0.454545</td>\n",
       "    </tr>\n",
       "    <tr>\n",
       "      <th>472</th>\n",
       "      <td>0</td>\n",
       "      <td>0</td>\n",
       "      <td>0.272727</td>\n",
       "    </tr>\n",
       "    <tr>\n",
       "      <th>233</th>\n",
       "      <td>0</td>\n",
       "      <td>0</td>\n",
       "      <td>0.500000</td>\n",
       "    </tr>\n",
       "    <tr>\n",
       "      <th>385</th>\n",
       "      <td>0</td>\n",
       "      <td>0</td>\n",
       "      <td>0.090909</td>\n",
       "    </tr>\n",
       "    <tr>\n",
       "      <th>556</th>\n",
       "      <td>0</td>\n",
       "      <td>0</td>\n",
       "      <td>0.181818</td>\n",
       "    </tr>\n",
       "    <tr>\n",
       "      <th>59</th>\n",
       "      <td>0</td>\n",
       "      <td>0</td>\n",
       "      <td>0.318182</td>\n",
       "    </tr>\n",
       "  </tbody>\n",
       "</table>\n",
       "</div>"
      ],
      "text/plain": [
       "     actual_class  pred_class    prob_1\n",
       "285             0           1  0.590909\n",
       "101             0           0  0.409091\n",
       "581             0           0  0.181818\n",
       "352             0           0  0.181818\n",
       "726             0           0  0.454545\n",
       "472             0           0  0.272727\n",
       "233             0           0  0.500000\n",
       "385             0           0  0.090909\n",
       "556             0           0  0.181818\n",
       "59              0           0  0.318182"
      ]
     },
     "execution_count": 52,
     "metadata": {},
     "output_type": "execute_result"
    }
   ],
   "source": [
    "# prediction class based on default threshold prob = 0.5\n",
    "df_prediction = pd.DataFrame()\n",
    "df_prediction['actual_class'] = y_test\n",
    "df_prediction['pred_class'] = y_pred\n",
    "df_prediction['prob_1'] = y_pred_prob[:,1]\n",
    "df_prediction.head(10)"
   ]
  },
  {
   "cell_type": "code",
   "execution_count": 90,
   "metadata": {},
   "outputs": [
    {
     "data": {
      "text/html": [
       "<div>\n",
       "<table border=\"1\" class=\"dataframe\">\n",
       "  <thead>\n",
       "    <tr style=\"text-align: right;\">\n",
       "      <th></th>\n",
       "      <th>actual_class</th>\n",
       "      <th>pred_class</th>\n",
       "      <th>prob_1</th>\n",
       "      <th>pred_class_new</th>\n",
       "    </tr>\n",
       "  </thead>\n",
       "  <tbody>\n",
       "    <tr>\n",
       "      <th>285</th>\n",
       "      <td>0</td>\n",
       "      <td>1</td>\n",
       "      <td>0.590909</td>\n",
       "      <td>1</td>\n",
       "    </tr>\n",
       "    <tr>\n",
       "      <th>101</th>\n",
       "      <td>0</td>\n",
       "      <td>0</td>\n",
       "      <td>0.409091</td>\n",
       "      <td>1</td>\n",
       "    </tr>\n",
       "    <tr>\n",
       "      <th>581</th>\n",
       "      <td>0</td>\n",
       "      <td>0</td>\n",
       "      <td>0.181818</td>\n",
       "      <td>0</td>\n",
       "    </tr>\n",
       "    <tr>\n",
       "      <th>352</th>\n",
       "      <td>0</td>\n",
       "      <td>0</td>\n",
       "      <td>0.181818</td>\n",
       "      <td>0</td>\n",
       "    </tr>\n",
       "    <tr>\n",
       "      <th>726</th>\n",
       "      <td>0</td>\n",
       "      <td>0</td>\n",
       "      <td>0.454545</td>\n",
       "      <td>1</td>\n",
       "    </tr>\n",
       "    <tr>\n",
       "      <th>472</th>\n",
       "      <td>0</td>\n",
       "      <td>0</td>\n",
       "      <td>0.272727</td>\n",
       "      <td>0</td>\n",
       "    </tr>\n",
       "    <tr>\n",
       "      <th>233</th>\n",
       "      <td>0</td>\n",
       "      <td>0</td>\n",
       "      <td>0.500000</td>\n",
       "      <td>1</td>\n",
       "    </tr>\n",
       "    <tr>\n",
       "      <th>385</th>\n",
       "      <td>0</td>\n",
       "      <td>0</td>\n",
       "      <td>0.090909</td>\n",
       "      <td>0</td>\n",
       "    </tr>\n",
       "    <tr>\n",
       "      <th>556</th>\n",
       "      <td>0</td>\n",
       "      <td>0</td>\n",
       "      <td>0.181818</td>\n",
       "      <td>0</td>\n",
       "    </tr>\n",
       "    <tr>\n",
       "      <th>59</th>\n",
       "      <td>0</td>\n",
       "      <td>0</td>\n",
       "      <td>0.318182</td>\n",
       "      <td>0</td>\n",
       "    </tr>\n",
       "  </tbody>\n",
       "</table>\n",
       "</div>"
      ],
      "text/plain": [
       "     actual_class  pred_class    prob_1  pred_class_new\n",
       "285             0           1  0.590909               1\n",
       "101             0           0  0.409091               1\n",
       "581             0           0  0.181818               0\n",
       "352             0           0  0.181818               0\n",
       "726             0           0  0.454545               1\n",
       "472             0           0  0.272727               0\n",
       "233             0           0  0.500000               1\n",
       "385             0           0  0.090909               0\n",
       "556             0           0  0.181818               0\n",
       "59              0           0  0.318182               0"
      ]
     },
     "execution_count": 90,
     "metadata": {},
     "output_type": "execute_result"
    }
   ],
   "source": [
    "# prediction class based on new threshold prob = 0.36\n",
    "df_prediction.loc[df_prediction['prob_1'] >=.36, 'pred_class_new'] = '1'\n",
    "df_prediction.loc[df_prediction['prob_1'] <.36, 'pred_class_new'] = '0'\n",
    "df_prediction['pred_class_new'] = df_prediction['pred_class_new'].astype(int)\n",
    "df_prediction.head(10)"
   ]
  },
  {
   "cell_type": "code",
   "execution_count": 91,
   "metadata": {},
   "outputs": [
    {
     "name": "stdout",
     "output_type": "stream",
     "text": [
      "accuracy =  0.78125\n",
      "sensitivity(tpr) =  0.507246376812\n",
      "precision =  0.813953488372\n"
     ]
    }
   ],
   "source": [
    "# accuracy at threshold=.5\n",
    "print( 'accuracy = ' , metrics.accuracy_score(df_prediction.actual_class, df_prediction.pred_class))\n",
    "print( 'sensitivity(tpr) = ' , metrics.recall_score(df_prediction.actual_class, df_prediction.pred_class))\n",
    "print( 'precision = ' , metrics.precision_score(df_prediction.actual_class, df_prediction.pred_class))"
   ]
  },
  {
   "cell_type": "code",
   "execution_count": 92,
   "metadata": {},
   "outputs": [
    {
     "name": "stdout",
     "output_type": "stream",
     "text": [
      "accuracy =  0.697916666667\n",
      "sensitivity(tpr) =  0.826086956522\n",
      "precision =  0.553398058252\n"
     ]
    }
   ],
   "source": [
    "# accuracy at threshold=.36\n",
    "print( 'accuracy = ' , metrics.accuracy_score(df_prediction.actual_class, df_prediction.pred_class_new))\n",
    "print( 'sensitivity(tpr) = ' , metrics.recall_score(df_prediction.actual_class, df_prediction.pred_class_new))\n",
    "print( 'precision = ' , metrics.precision_score(df_prediction.actual_class, df_prediction.pred_class_new))"
   ]
  },
  {
   "cell_type": "code",
   "execution_count": null,
   "metadata": {
    "collapsed": true
   },
   "outputs": [],
   "source": []
  }
 ],
 "metadata": {
  "kernelspec": {
   "display_name": "Python 3",
   "language": "python",
   "name": "python3"
  },
  "language_info": {
   "codemirror_mode": {
    "name": "ipython",
    "version": 3
   },
   "file_extension": ".py",
   "mimetype": "text/x-python",
   "name": "python",
   "nbconvert_exporter": "python",
   "pygments_lexer": "ipython3",
   "version": "3.6.0"
  }
 },
 "nbformat": 4,
 "nbformat_minor": 2
}
